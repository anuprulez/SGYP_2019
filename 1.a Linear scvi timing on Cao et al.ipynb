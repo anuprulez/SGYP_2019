{
 "cells": [
  {
   "cell_type": "code",
   "execution_count": 7,
   "metadata": {},
   "outputs": [
    {
     "name": "stdout",
     "output_type": "stream",
     "text": [
      "Populating the interactive namespace from numpy and matplotlib\n"
     ]
    }
   ],
   "source": [
    "%pylab inline\n",
    "import time\n",
    "\n",
    "import pandas as pd\n",
    "import anndata\n",
    "\n",
    "import torch\n",
    "\n",
    "from scvi.dataset import AnnDatasetFromAnnData\n",
    "from scvi.models import LDVAE\n",
    "from scvi.inference import UnsupervisedTrainer\n",
    "from scvi.inference.posterior import Posterior"
   ]
  },
  {
   "cell_type": "code",
   "execution_count": 2,
   "metadata": {},
   "outputs": [],
   "source": [
    "adata = anndata.read('cao_atlas.h5ad')"
   ]
  },
  {
   "cell_type": "code",
   "execution_count": 3,
   "metadata": {},
   "outputs": [],
   "source": [
    "# idx = np.random.choice(adata.obs.query('detected_doublet == \"False\"').index, 100000, replace=False)\n",
    "idx = adata.obs.query('detected_doublet == \"False\"').index"
   ]
  },
  {
   "cell_type": "code",
   "execution_count": 39,
   "metadata": {},
   "outputs": [],
   "source": [
    "adata = adata[idx]"
   ]
  },
  {
   "cell_type": "code",
   "execution_count": 40,
   "metadata": {},
   "outputs": [
    {
     "data": {
      "text/plain": [
       "0.022025692638290312"
      ]
     },
     "execution_count": 40,
     "metadata": {},
     "output_type": "execute_result"
    }
   ],
   "source": [
    "adata.X.getnnz() / (adata.X.shape[0] * adata.X.shape[1])"
   ]
  },
  {
   "cell_type": "code",
   "execution_count": 4,
   "metadata": {},
   "outputs": [],
   "source": [
    "cell_numbers = [2500 * 2 ** i for i in range(10)] + [idx.shape[0]]"
   ]
  },
  {
   "cell_type": "code",
   "execution_count": 8,
   "metadata": {},
   "outputs": [
    {
     "name": "stderr",
     "output_type": "stream",
     "text": [
      "[2019-11-09 21:38:32,863] INFO - scvi.dataset.dataset | Remapping batch_indices to [0,N]\n",
      "[2019-11-09 21:38:32,991] INFO - scvi.dataset.dataset | Remapping labels to [0,N]\n",
      "[2019-11-09 21:38:42,951] INFO - scvi.dataset.dataset | Computing the library size for the new data\n",
      "[2019-11-09 21:38:54,797] INFO - scvi.dataset.dataset | Downsampled from 2058652 to 2058652 cells\n"
     ]
    }
   ],
   "source": [
    "cells_dataset = AnnDatasetFromAnnData(adata)"
   ]
  },
  {
   "cell_type": "code",
   "execution_count": 9,
   "metadata": {},
   "outputs": [],
   "source": [
    "def create_dataset():\n",
    "    cells_dataset = \\\n",
    "    cells_dataset = AnnDatasetFromAnnData(adata)\n",
    "    return cells_dataset"
   ]
  },
  {
   "cell_type": "code",
   "execution_count": 10,
   "metadata": {
    "scrolled": true
   },
   "outputs": [
    {
     "name": "stderr",
     "output_type": "stream",
     "text": [
      "[2019-11-09 21:40:03,119] INFO - scvi.dataset.dataset | Remapping batch_indices to [0,N]\n",
      "[2019-11-09 21:40:03,233] INFO - scvi.dataset.dataset | Remapping labels to [0,N]\n",
      "[2019-11-09 21:40:10,667] INFO - scvi.dataset.dataset | Computing the library size for the new data\n",
      "[2019-11-09 21:40:34,577] INFO - scvi.dataset.dataset | Downsampled from 2058652 to 2058652 cells\n",
      "[2019-11-09 21:40:39,111] INFO - scvi.dataset.dataset | Computing the library size for the new data\n",
      "[2019-11-09 21:40:39,147] INFO - scvi.dataset.dataset | Downsampled from 2058652 to 2500 cells\n",
      "[2019-11-09 21:40:39,333] INFO - scvi.dataset.dataset | Downsampling from 26183 to 1000 genes\n",
      "[2019-11-09 21:40:39,375] INFO - scvi.dataset.dataset | Computing the library size for the new data\n",
      "[2019-11-09 21:40:39,389] INFO - scvi.dataset.dataset | Filtering non-expressing cells.\n",
      "[2019-11-09 21:40:39,399] INFO - scvi.dataset.dataset | Computing the library size for the new data\n",
      "[2019-11-09 21:40:39,409] INFO - scvi.dataset.dataset | Downsampled from 2500 to 2500 cells\n"
     ]
    },
    {
     "name": "stdout",
     "output_type": "stream",
     "text": [
      "training: 100%|████████████████████████████████████████████████████████████████████████| 10/10 [00:05<00:00,  1.83it/s]\n"
     ]
    },
    {
     "name": "stderr",
     "output_type": "stream",
     "text": [
      "[2019-11-09 21:41:11,301] INFO - scvi.dataset.dataset | Remapping batch_indices to [0,N]\n",
      "INFO:scvi.dataset.dataset:Remapping batch_indices to [0,N]\n",
      "[2019-11-09 21:41:11,415] INFO - scvi.dataset.dataset | Remapping labels to [0,N]\n",
      "INFO:scvi.dataset.dataset:Remapping labels to [0,N]\n",
      "[2019-11-09 21:41:18,608] INFO - scvi.dataset.dataset | Computing the library size for the new data\n",
      "INFO:scvi.dataset.dataset:Computing the library size for the new data\n",
      "[2019-11-09 21:41:39,099] INFO - scvi.dataset.dataset | Downsampled from 2058652 to 2058652 cells\n",
      "INFO:scvi.dataset.dataset:Downsampled from 2058652 to 2058652 cells\n",
      "[2019-11-09 21:41:43,410] INFO - scvi.dataset.dataset | Computing the library size for the new data\n",
      "INFO:scvi.dataset.dataset:Computing the library size for the new data\n",
      "[2019-11-09 21:41:43,471] INFO - scvi.dataset.dataset | Downsampled from 2058652 to 5000 cells\n",
      "INFO:scvi.dataset.dataset:Downsampled from 2058652 to 5000 cells\n",
      "[2019-11-09 21:41:43,756] INFO - scvi.dataset.dataset | Downsampling from 26183 to 1000 genes\n",
      "INFO:scvi.dataset.dataset:Downsampling from 26183 to 1000 genes\n",
      "[2019-11-09 21:41:43,818] INFO - scvi.dataset.dataset | Computing the library size for the new data\n",
      "INFO:scvi.dataset.dataset:Computing the library size for the new data\n",
      "[2019-11-09 21:41:43,838] INFO - scvi.dataset.dataset | Filtering non-expressing cells.\n",
      "INFO:scvi.dataset.dataset:Filtering non-expressing cells.\n",
      "[2019-11-09 21:41:43,857] INFO - scvi.dataset.dataset | Computing the library size for the new data\n",
      "INFO:scvi.dataset.dataset:Computing the library size for the new data\n",
      "[2019-11-09 21:41:43,885] INFO - scvi.dataset.dataset | Downsampled from 5000 to 5000 cells\n",
      "INFO:scvi.dataset.dataset:Downsampled from 5000 to 5000 cells\n"
     ]
    },
    {
     "name": "stdout",
     "output_type": "stream",
     "text": [
      "training: 100%|████████████████████████████████████████████████████████████████████████| 10/10 [00:10<00:00,  1.06s/it]\n"
     ]
    },
    {
     "name": "stderr",
     "output_type": "stream",
     "text": [
      "[2019-11-09 21:42:10,560] INFO - scvi.dataset.dataset | Remapping batch_indices to [0,N]\n",
      "INFO:scvi.dataset.dataset:Remapping batch_indices to [0,N]\n",
      "[2019-11-09 21:42:10,665] INFO - scvi.dataset.dataset | Remapping labels to [0,N]\n",
      "INFO:scvi.dataset.dataset:Remapping labels to [0,N]\n",
      "[2019-11-09 21:42:17,289] INFO - scvi.dataset.dataset | Computing the library size for the new data\n",
      "INFO:scvi.dataset.dataset:Computing the library size for the new data\n",
      "[2019-11-09 21:42:39,920] INFO - scvi.dataset.dataset | Downsampled from 2058652 to 2058652 cells\n",
      "INFO:scvi.dataset.dataset:Downsampled from 2058652 to 2058652 cells\n",
      "[2019-11-09 21:42:44,034] INFO - scvi.dataset.dataset | Computing the library size for the new data\n",
      "INFO:scvi.dataset.dataset:Computing the library size for the new data\n",
      "[2019-11-09 21:42:44,167] INFO - scvi.dataset.dataset | Downsampled from 2058652 to 10000 cells\n",
      "INFO:scvi.dataset.dataset:Downsampled from 2058652 to 10000 cells\n",
      "[2019-11-09 21:42:44,661] INFO - scvi.dataset.dataset | Downsampling from 26183 to 1000 genes\n",
      "INFO:scvi.dataset.dataset:Downsampling from 26183 to 1000 genes\n",
      "[2019-11-09 21:42:44,793] INFO - scvi.dataset.dataset | Computing the library size for the new data\n",
      "INFO:scvi.dataset.dataset:Computing the library size for the new data\n",
      "[2019-11-09 21:42:44,831] INFO - scvi.dataset.dataset | Filtering non-expressing cells.\n",
      "INFO:scvi.dataset.dataset:Filtering non-expressing cells.\n",
      "[2019-11-09 21:42:44,871] INFO - scvi.dataset.dataset | Computing the library size for the new data\n",
      "INFO:scvi.dataset.dataset:Computing the library size for the new data\n",
      "[2019-11-09 21:42:44,905] INFO - scvi.dataset.dataset | Downsampled from 10000 to 10000 cells\n",
      "INFO:scvi.dataset.dataset:Downsampled from 10000 to 10000 cells\n"
     ]
    },
    {
     "name": "stdout",
     "output_type": "stream",
     "text": [
      "training: 100%|████████████████████████████████████████████████████████████████████████| 10/10 [00:21<00:00,  2.13s/it]\n"
     ]
    },
    {
     "name": "stderr",
     "output_type": "stream",
     "text": [
      "[2019-11-09 21:43:22,695] INFO - scvi.dataset.dataset | Remapping batch_indices to [0,N]\n",
      "INFO:scvi.dataset.dataset:Remapping batch_indices to [0,N]\n",
      "[2019-11-09 21:43:22,787] INFO - scvi.dataset.dataset | Remapping labels to [0,N]\n",
      "INFO:scvi.dataset.dataset:Remapping labels to [0,N]\n",
      "[2019-11-09 21:43:28,970] INFO - scvi.dataset.dataset | Computing the library size for the new data\n",
      "INFO:scvi.dataset.dataset:Computing the library size for the new data\n",
      "[2019-11-09 21:43:53,160] INFO - scvi.dataset.dataset | Downsampled from 2058652 to 2058652 cells\n",
      "INFO:scvi.dataset.dataset:Downsampled from 2058652 to 2058652 cells\n",
      "[2019-11-09 21:43:57,441] INFO - scvi.dataset.dataset | Computing the library size for the new data\n",
      "INFO:scvi.dataset.dataset:Computing the library size for the new data\n",
      "[2019-11-09 21:43:57,653] INFO - scvi.dataset.dataset | Downsampled from 2058652 to 20000 cells\n",
      "INFO:scvi.dataset.dataset:Downsampled from 2058652 to 20000 cells\n",
      "[2019-11-09 21:43:58,531] INFO - scvi.dataset.dataset | Downsampling from 26183 to 1000 genes\n",
      "INFO:scvi.dataset.dataset:Downsampling from 26183 to 1000 genes\n",
      "[2019-11-09 21:43:58,804] INFO - scvi.dataset.dataset | Computing the library size for the new data\n",
      "INFO:scvi.dataset.dataset:Computing the library size for the new data\n",
      "[2019-11-09 21:43:58,893] INFO - scvi.dataset.dataset | Filtering non-expressing cells.\n",
      "INFO:scvi.dataset.dataset:Filtering non-expressing cells.\n",
      "[2019-11-09 21:43:58,966] INFO - scvi.dataset.dataset | Computing the library size for the new data\n",
      "INFO:scvi.dataset.dataset:Computing the library size for the new data\n",
      "[2019-11-09 21:43:59,028] INFO - scvi.dataset.dataset | Downsampled from 20000 to 20000 cells\n",
      "INFO:scvi.dataset.dataset:Downsampled from 20000 to 20000 cells\n"
     ]
    },
    {
     "name": "stdout",
     "output_type": "stream",
     "text": [
      "training: 100%|████████████████████████████████████████████████████████████████████████| 10/10 [00:43<00:00,  4.30s/it]\n"
     ]
    },
    {
     "name": "stderr",
     "output_type": "stream",
     "text": [
      "[2019-11-09 21:44:58,327] INFO - scvi.dataset.dataset | Remapping batch_indices to [0,N]\n",
      "INFO:scvi.dataset.dataset:Remapping batch_indices to [0,N]\n",
      "[2019-11-09 21:44:58,423] INFO - scvi.dataset.dataset | Remapping labels to [0,N]\n",
      "INFO:scvi.dataset.dataset:Remapping labels to [0,N]\n",
      "[2019-11-09 21:45:05,519] INFO - scvi.dataset.dataset | Computing the library size for the new data\n",
      "INFO:scvi.dataset.dataset:Computing the library size for the new data\n",
      "[2019-11-09 21:45:25,735] INFO - scvi.dataset.dataset | Downsampled from 2058652 to 2058652 cells\n",
      "INFO:scvi.dataset.dataset:Downsampled from 2058652 to 2058652 cells\n",
      "[2019-11-09 21:45:29,945] INFO - scvi.dataset.dataset | Computing the library size for the new data\n",
      "INFO:scvi.dataset.dataset:Computing the library size for the new data\n",
      "[2019-11-09 21:45:30,372] INFO - scvi.dataset.dataset | Downsampled from 2058652 to 40000 cells\n",
      "INFO:scvi.dataset.dataset:Downsampled from 2058652 to 40000 cells\n",
      "[2019-11-09 21:45:32,003] INFO - scvi.dataset.dataset | Downsampling from 26183 to 1000 genes\n",
      "INFO:scvi.dataset.dataset:Downsampling from 26183 to 1000 genes\n",
      "[2019-11-09 21:45:32,487] INFO - scvi.dataset.dataset | Computing the library size for the new data\n",
      "INFO:scvi.dataset.dataset:Computing the library size for the new data\n",
      "[2019-11-09 21:45:32,631] INFO - scvi.dataset.dataset | Filtering non-expressing cells.\n",
      "INFO:scvi.dataset.dataset:Filtering non-expressing cells.\n",
      "[2019-11-09 21:45:32,768] INFO - scvi.dataset.dataset | Computing the library size for the new data\n",
      "INFO:scvi.dataset.dataset:Computing the library size for the new data\n",
      "[2019-11-09 21:45:32,899] INFO - scvi.dataset.dataset | Downsampled from 40000 to 40000 cells\n",
      "INFO:scvi.dataset.dataset:Downsampled from 40000 to 40000 cells\n"
     ]
    },
    {
     "name": "stdout",
     "output_type": "stream",
     "text": [
      "training: 100%|████████████████████████████████████████████████████████████████████████| 10/10 [01:23<00:00,  8.30s/it]\n"
     ]
    },
    {
     "name": "stderr",
     "output_type": "stream",
     "text": [
      "[2019-11-09 21:47:13,710] INFO - scvi.dataset.dataset | Remapping batch_indices to [0,N]\n",
      "INFO:scvi.dataset.dataset:Remapping batch_indices to [0,N]\n",
      "[2019-11-09 21:47:13,811] INFO - scvi.dataset.dataset | Remapping labels to [0,N]\n",
      "INFO:scvi.dataset.dataset:Remapping labels to [0,N]\n",
      "[2019-11-09 21:47:20,041] INFO - scvi.dataset.dataset | Computing the library size for the new data\n",
      "INFO:scvi.dataset.dataset:Computing the library size for the new data\n",
      "[2019-11-09 21:47:43,735] INFO - scvi.dataset.dataset | Downsampled from 2058652 to 2058652 cells\n",
      "INFO:scvi.dataset.dataset:Downsampled from 2058652 to 2058652 cells\n",
      "[2019-11-09 21:47:48,204] INFO - scvi.dataset.dataset | Computing the library size for the new data\n",
      "INFO:scvi.dataset.dataset:Computing the library size for the new data\n",
      "[2019-11-09 21:47:48,961] INFO - scvi.dataset.dataset | Downsampled from 2058652 to 80000 cells\n",
      "INFO:scvi.dataset.dataset:Downsampled from 2058652 to 80000 cells\n",
      "[2019-11-09 21:47:51,895] INFO - scvi.dataset.dataset | Downsampling from 26183 to 1000 genes\n",
      "INFO:scvi.dataset.dataset:Downsampling from 26183 to 1000 genes\n",
      "[2019-11-09 21:47:52,697] INFO - scvi.dataset.dataset | Computing the library size for the new data\n",
      "INFO:scvi.dataset.dataset:Computing the library size for the new data\n",
      "[2019-11-09 21:47:52,917] INFO - scvi.dataset.dataset | Filtering non-expressing cells.\n",
      "INFO:scvi.dataset.dataset:Filtering non-expressing cells.\n",
      "[2019-11-09 21:47:53,133] INFO - scvi.dataset.dataset | Computing the library size for the new data\n",
      "INFO:scvi.dataset.dataset:Computing the library size for the new data\n",
      "[2019-11-09 21:47:53,345] INFO - scvi.dataset.dataset | Downsampled from 80000 to 80000 cells\n",
      "INFO:scvi.dataset.dataset:Downsampled from 80000 to 80000 cells\n"
     ]
    },
    {
     "name": "stdout",
     "output_type": "stream",
     "text": [
      "training: 100%|████████████████████████████████████████████████████████████████████████| 10/10 [02:46<00:00, 16.64s/it]\n"
     ]
    },
    {
     "name": "stderr",
     "output_type": "stream",
     "text": [
      "[2019-11-09 21:50:59,990] INFO - scvi.dataset.dataset | Remapping batch_indices to [0,N]\n",
      "INFO:scvi.dataset.dataset:Remapping batch_indices to [0,N]\n",
      "[2019-11-09 21:51:00,105] INFO - scvi.dataset.dataset | Remapping labels to [0,N]\n",
      "INFO:scvi.dataset.dataset:Remapping labels to [0,N]\n",
      "[2019-11-09 21:51:06,344] INFO - scvi.dataset.dataset | Computing the library size for the new data\n",
      "INFO:scvi.dataset.dataset:Computing the library size for the new data\n",
      "[2019-11-09 21:51:32,437] INFO - scvi.dataset.dataset | Downsampled from 2058652 to 2058652 cells\n",
      "INFO:scvi.dataset.dataset:Downsampled from 2058652 to 2058652 cells\n",
      "[2019-11-09 21:51:37,313] INFO - scvi.dataset.dataset | Computing the library size for the new data\n",
      "INFO:scvi.dataset.dataset:Computing the library size for the new data\n",
      "[2019-11-09 21:51:38,637] INFO - scvi.dataset.dataset | Downsampled from 2058652 to 160000 cells\n",
      "INFO:scvi.dataset.dataset:Downsampled from 2058652 to 160000 cells\n",
      "[2019-11-09 21:51:43,951] INFO - scvi.dataset.dataset | Downsampling from 26183 to 1000 genes\n",
      "INFO:scvi.dataset.dataset:Downsampling from 26183 to 1000 genes\n",
      "[2019-11-09 21:51:45,550] INFO - scvi.dataset.dataset | Computing the library size for the new data\n",
      "INFO:scvi.dataset.dataset:Computing the library size for the new data\n",
      "[2019-11-09 21:51:45,957] INFO - scvi.dataset.dataset | Filtering non-expressing cells.\n",
      "INFO:scvi.dataset.dataset:Filtering non-expressing cells.\n",
      "[2019-11-09 21:51:46,368] INFO - scvi.dataset.dataset | Computing the library size for the new data\n",
      "INFO:scvi.dataset.dataset:Computing the library size for the new data\n",
      "[2019-11-09 21:51:46,765] INFO - scvi.dataset.dataset | Downsampled from 160000 to 160000 cells\n",
      "INFO:scvi.dataset.dataset:Downsampled from 160000 to 160000 cells\n"
     ]
    },
    {
     "name": "stdout",
     "output_type": "stream",
     "text": [
      "training: 100%|████████████████████████████████████████████████████████████████████████| 10/10 [05:32<00:00, 33.27s/it]\n"
     ]
    },
    {
     "name": "stderr",
     "output_type": "stream",
     "text": [
      "[2019-11-09 21:57:45,917] INFO - scvi.dataset.dataset | Remapping batch_indices to [0,N]\n",
      "INFO:scvi.dataset.dataset:Remapping batch_indices to [0,N]\n",
      "[2019-11-09 21:57:46,024] INFO - scvi.dataset.dataset | Remapping labels to [0,N]\n",
      "INFO:scvi.dataset.dataset:Remapping labels to [0,N]\n",
      "[2019-11-09 21:57:52,569] INFO - scvi.dataset.dataset | Computing the library size for the new data\n",
      "INFO:scvi.dataset.dataset:Computing the library size for the new data\n",
      "[2019-11-09 21:58:15,553] INFO - scvi.dataset.dataset | Downsampled from 2058652 to 2058652 cells\n",
      "INFO:scvi.dataset.dataset:Downsampled from 2058652 to 2058652 cells\n",
      "[2019-11-09 21:58:21,128] INFO - scvi.dataset.dataset | Computing the library size for the new data\n",
      "INFO:scvi.dataset.dataset:Computing the library size for the new data\n",
      "[2019-11-09 21:58:23,459] INFO - scvi.dataset.dataset | Downsampled from 2058652 to 320000 cells\n",
      "INFO:scvi.dataset.dataset:Downsampled from 2058652 to 320000 cells\n",
      "[2019-11-09 21:58:32,425] INFO - scvi.dataset.dataset | Downsampling from 26183 to 1000 genes\n",
      "INFO:scvi.dataset.dataset:Downsampling from 26183 to 1000 genes\n",
      "[2019-11-09 21:58:34,980] INFO - scvi.dataset.dataset | Computing the library size for the new data\n",
      "INFO:scvi.dataset.dataset:Computing the library size for the new data\n",
      "[2019-11-09 21:58:35,716] INFO - scvi.dataset.dataset | Filtering non-expressing cells.\n",
      "INFO:scvi.dataset.dataset:Filtering non-expressing cells.\n",
      "[2019-11-09 21:58:36,465] INFO - scvi.dataset.dataset | Computing the library size for the new data\n",
      "INFO:scvi.dataset.dataset:Computing the library size for the new data\n",
      "[2019-11-09 21:58:37,186] INFO - scvi.dataset.dataset | Downsampled from 320000 to 320000 cells\n",
      "INFO:scvi.dataset.dataset:Downsampled from 320000 to 320000 cells\n"
     ]
    },
    {
     "name": "stdout",
     "output_type": "stream",
     "text": [
      "training: 100%|████████████████████████████████████████████████████████████████████████| 10/10 [11:24<00:00, 68.45s/it]\n"
     ]
    },
    {
     "name": "stderr",
     "output_type": "stream",
     "text": [
      "[2019-11-09 22:10:45,073] INFO - scvi.dataset.dataset | Remapping batch_indices to [0,N]\n",
      "INFO:scvi.dataset.dataset:Remapping batch_indices to [0,N]\n",
      "[2019-11-09 22:10:45,201] INFO - scvi.dataset.dataset | Remapping labels to [0,N]\n",
      "INFO:scvi.dataset.dataset:Remapping labels to [0,N]\n",
      "[2019-11-09 22:10:52,096] INFO - scvi.dataset.dataset | Computing the library size for the new data\n",
      "INFO:scvi.dataset.dataset:Computing the library size for the new data\n",
      "[2019-11-09 22:11:13,551] INFO - scvi.dataset.dataset | Downsampled from 2058652 to 2058652 cells\n",
      "INFO:scvi.dataset.dataset:Downsampled from 2058652 to 2058652 cells\n",
      "[2019-11-09 22:11:20,370] INFO - scvi.dataset.dataset | Computing the library size for the new data\n",
      "INFO:scvi.dataset.dataset:Computing the library size for the new data\n",
      "[2019-11-09 22:11:24,150] INFO - scvi.dataset.dataset | Downsampled from 2058652 to 640000 cells\n",
      "INFO:scvi.dataset.dataset:Downsampled from 2058652 to 640000 cells\n",
      "[2019-11-09 22:11:38,976] INFO - scvi.dataset.dataset | Downsampling from 26183 to 1000 genes\n",
      "INFO:scvi.dataset.dataset:Downsampling from 26183 to 1000 genes\n",
      "[2019-11-09 22:11:43,261] INFO - scvi.dataset.dataset | Computing the library size for the new data\n",
      "INFO:scvi.dataset.dataset:Computing the library size for the new data\n",
      "[2019-11-09 22:11:44,592] INFO - scvi.dataset.dataset | Filtering non-expressing cells.\n",
      "INFO:scvi.dataset.dataset:Filtering non-expressing cells.\n",
      "[2019-11-09 22:11:45,845] INFO - scvi.dataset.dataset | Computing the library size for the new data\n",
      "INFO:scvi.dataset.dataset:Computing the library size for the new data\n",
      "[2019-11-09 22:11:47,183] INFO - scvi.dataset.dataset | Downsampled from 640000 to 640000 cells\n",
      "INFO:scvi.dataset.dataset:Downsampled from 640000 to 640000 cells\n"
     ]
    },
    {
     "name": "stdout",
     "output_type": "stream",
     "text": [
      "training: 100%|███████████████████████████████████████████████████████████████████████| 10/10 [23:53<00:00, 143.31s/it]\n"
     ]
    },
    {
     "name": "stderr",
     "output_type": "stream",
     "text": [
      "[2019-11-09 22:37:15,024] INFO - scvi.dataset.dataset | Remapping batch_indices to [0,N]\n",
      "INFO:scvi.dataset.dataset:Remapping batch_indices to [0,N]\n",
      "[2019-11-09 22:37:15,135] INFO - scvi.dataset.dataset | Remapping labels to [0,N]\n",
      "INFO:scvi.dataset.dataset:Remapping labels to [0,N]\n",
      "[2019-11-09 22:37:21,862] INFO - scvi.dataset.dataset | Computing the library size for the new data\n",
      "INFO:scvi.dataset.dataset:Computing the library size for the new data\n",
      "[2019-11-09 22:37:46,595] INFO - scvi.dataset.dataset | Downsampled from 2058652 to 2058652 cells\n",
      "INFO:scvi.dataset.dataset:Downsampled from 2058652 to 2058652 cells\n",
      "[2019-11-09 22:37:55,200] INFO - scvi.dataset.dataset | Computing the library size for the new data\n",
      "INFO:scvi.dataset.dataset:Computing the library size for the new data\n",
      "[2019-11-09 22:38:00,766] INFO - scvi.dataset.dataset | Downsampled from 2058652 to 1280000 cells\n",
      "INFO:scvi.dataset.dataset:Downsampled from 2058652 to 1280000 cells\n",
      "[2019-11-09 22:39:14,392] INFO - scvi.dataset.dataset | Downsampling from 26183 to 1000 genes\n",
      "INFO:scvi.dataset.dataset:Downsampling from 26183 to 1000 genes\n",
      "[2019-11-09 22:39:31,793] INFO - scvi.dataset.dataset | Computing the library size for the new data\n",
      "INFO:scvi.dataset.dataset:Computing the library size for the new data\n",
      "[2019-11-09 22:39:33,873] INFO - scvi.dataset.dataset | Filtering non-expressing cells.\n",
      "INFO:scvi.dataset.dataset:Filtering non-expressing cells.\n",
      "[2019-11-09 22:39:35,982] INFO - scvi.dataset.dataset | Computing the library size for the new data\n",
      "INFO:scvi.dataset.dataset:Computing the library size for the new data\n",
      "[2019-11-09 22:39:38,065] INFO - scvi.dataset.dataset | Downsampled from 1280000 to 1280000 cells\n",
      "INFO:scvi.dataset.dataset:Downsampled from 1280000 to 1280000 cells\n"
     ]
    },
    {
     "name": "stdout",
     "output_type": "stream",
     "text": [
      "training: 100%|███████████████████████████████████████████████████████████████████████| 10/10 [52:47<00:00, 316.78s/it]\n"
     ]
    },
    {
     "name": "stderr",
     "output_type": "stream",
     "text": [
      "[2019-11-09 23:34:33,731] INFO - scvi.dataset.dataset | Remapping batch_indices to [0,N]\n",
      "INFO:scvi.dataset.dataset:Remapping batch_indices to [0,N]\n",
      "[2019-11-09 23:34:33,826] INFO - scvi.dataset.dataset | Remapping labels to [0,N]\n",
      "INFO:scvi.dataset.dataset:Remapping labels to [0,N]\n",
      "[2019-11-09 23:34:40,349] INFO - scvi.dataset.dataset | Computing the library size for the new data\n",
      "INFO:scvi.dataset.dataset:Computing the library size for the new data\n",
      "[2019-11-09 23:35:11,197] INFO - scvi.dataset.dataset | Downsampled from 2058652 to 2058652 cells\n",
      "INFO:scvi.dataset.dataset:Downsampled from 2058652 to 2058652 cells\n",
      "[2019-11-09 23:35:21,841] INFO - scvi.dataset.dataset | Computing the library size for the new data\n",
      "INFO:scvi.dataset.dataset:Computing the library size for the new data\n",
      "[2019-11-09 23:35:28,790] INFO - scvi.dataset.dataset | Downsampled from 2058652 to 1949131 cells\n",
      "INFO:scvi.dataset.dataset:Downsampled from 2058652 to 1949131 cells\n",
      "[2019-11-09 23:37:02,644] INFO - scvi.dataset.dataset | Downsampling from 26183 to 1000 genes\n",
      "INFO:scvi.dataset.dataset:Downsampling from 26183 to 1000 genes\n",
      "[2019-11-09 23:37:32,056] INFO - scvi.dataset.dataset | Computing the library size for the new data\n",
      "INFO:scvi.dataset.dataset:Computing the library size for the new data\n",
      "[2019-11-09 23:37:34,651] INFO - scvi.dataset.dataset | Filtering non-expressing cells.\n",
      "INFO:scvi.dataset.dataset:Filtering non-expressing cells.\n",
      "[2019-11-09 23:37:37,299] INFO - scvi.dataset.dataset | Computing the library size for the new data\n",
      "INFO:scvi.dataset.dataset:Computing the library size for the new data\n",
      "[2019-11-09 23:37:39,919] INFO - scvi.dataset.dataset | Downsampled from 1949131 to 1949131 cells\n",
      "INFO:scvi.dataset.dataset:Downsampled from 1949131 to 1949131 cells\n"
     ]
    },
    {
     "name": "stdout",
     "output_type": "stream",
     "text": [
      "training: 100%|█████████████████████████████████████████████████████████████████████| 10/10 [1:28:10<00:00, 529.02s/it]\n"
     ]
    }
   ],
   "source": [
    "inference_times = []\n",
    "train_histories = []\n",
    "for n_cells in cell_numbers:\n",
    "    cells_dataset = create_dataset()\n",
    "    cells_dataset.subsample_cells(n_cells)\n",
    "    cells_dataset.subsample_genes(1000)\n",
    "    \n",
    "    vae = LDVAE(\n",
    "        cells_dataset.nb_genes,\n",
    "        reconstruction_loss='nb',\n",
    "        use_batch_norm=True,\n",
    "        latent_distribution='normal',\n",
    "        n_latent=20\n",
    "    )\n",
    "    \n",
    "    trainer = UnsupervisedTrainer(vae,\n",
    "                              cells_dataset,\n",
    "                              frequency=1,\n",
    "                              use_cuda=True\n",
    "                             )\n",
    "    \n",
    "    t0 = time.time()\n",
    "    trainer.train(n_epochs=10)\n",
    "    t = time.time() - t0\n",
    "    \n",
    "    inference_times.append(t)\n",
    "    train_histories.append(trainer.history['elbo_train_set'])\n",
    "    "
   ]
  },
  {
   "cell_type": "code",
   "execution_count": 11,
   "metadata": {},
   "outputs": [
    {
     "data": {
      "image/png": "[encoded data removed]",
      "text/plain": [
       "<Figure size 432x288 with 1 Axes>"
      ]
     },
     "metadata": {
      "needs_background": "light"
     },
     "output_type": "display_data"
    }
   ],
   "source": [
    "plt.loglog()\n",
    "plt.scatter(cell_numbers, inference_times);"
   ]
  },
  {
   "cell_type": "code",
   "execution_count": 12,
   "metadata": {},
   "outputs": [
    {
     "data": {
      "image/png": "[encoded data removed]",
      "text/plain": [
       "<Figure size 432x288 with 1 Axes>"
      ]
     },
     "metadata": {
      "needs_background": "light"
     },
     "output_type": "display_data"
    }
   ],
   "source": [
    "for n, th in zip(cell_numbers, train_histories):\n",
    "    plt.plot(th, label=n)\n",
    "    \n",
    "plt.legend();"
   ]
  },
  {
   "cell_type": "code",
   "execution_count": 13,
   "metadata": {},
   "outputs": [
    {
     "name": "stderr",
     "output_type": "stream",
     "text": [
      "[2019-11-10 01:11:49,222] INFO - scvi.dataset.dataset | Remapping batch_indices to [0,N]\n",
      "INFO:scvi.dataset.dataset:Remapping batch_indices to [0,N]\n",
      "[2019-11-10 01:11:49,327] INFO - scvi.dataset.dataset | Remapping labels to [0,N]\n",
      "INFO:scvi.dataset.dataset:Remapping labels to [0,N]\n",
      "[2019-11-10 01:11:56,345] INFO - scvi.dataset.dataset | Computing the library size for the new data\n",
      "INFO:scvi.dataset.dataset:Computing the library size for the new data\n",
      "[2019-11-10 01:12:16,052] INFO - scvi.dataset.dataset | Downsampled from 2058652 to 2058652 cells\n",
      "INFO:scvi.dataset.dataset:Downsampled from 2058652 to 2058652 cells\n",
      "[2019-11-10 01:12:19,863] INFO - scvi.dataset.dataset | Computing the library size for the new data\n",
      "INFO:scvi.dataset.dataset:Computing the library size for the new data\n",
      "[2019-11-10 01:12:19,920] INFO - scvi.dataset.dataset | Downsampled from 2058652 to 2500 cells\n",
      "INFO:scvi.dataset.dataset:Downsampled from 2058652 to 2500 cells\n",
      "[2019-11-10 01:12:20,104] INFO - scvi.dataset.dataset | Downsampling from 26183 to 1000 genes\n",
      "INFO:scvi.dataset.dataset:Downsampling from 26183 to 1000 genes\n",
      "[2019-11-10 01:12:20,145] INFO - scvi.dataset.dataset | Computing the library size for the new data\n",
      "INFO:scvi.dataset.dataset:Computing the library size for the new data\n",
      "[2019-11-10 01:12:20,164] INFO - scvi.dataset.dataset | Filtering non-expressing cells.\n",
      "INFO:scvi.dataset.dataset:Filtering non-expressing cells.\n",
      "[2019-11-10 01:12:20,176] INFO - scvi.dataset.dataset | Computing the library size for the new data\n",
      "INFO:scvi.dataset.dataset:Computing the library size for the new data\n",
      "[2019-11-10 01:12:20,191] INFO - scvi.dataset.dataset | Downsampled from 2500 to 2500 cells\n",
      "INFO:scvi.dataset.dataset:Downsampled from 2500 to 2500 cells\n"
     ]
    },
    {
     "name": "stdout",
     "output_type": "stream",
     "text": [
      "training: 100%|████████████████████████████████████████████████████████████████████████████████████████████████████████████████████████████████████| 10/10 [00:08<00:00,  1.19it/s]\n"
     ]
    },
    {
     "name": "stderr",
     "output_type": "stream",
     "text": [
      "[2019-11-10 01:12:48,023] INFO - scvi.dataset.dataset | Remapping batch_indices to [0,N]\n",
      "INFO:scvi.dataset.dataset:Remapping batch_indices to [0,N]\n",
      "[2019-11-10 01:12:48,143] INFO - scvi.dataset.dataset | Remapping labels to [0,N]\n",
      "INFO:scvi.dataset.dataset:Remapping labels to [0,N]\n",
      "[2019-11-10 01:12:55,227] INFO - scvi.dataset.dataset | Computing the library size for the new data\n",
      "INFO:scvi.dataset.dataset:Computing the library size for the new data\n",
      "[2019-11-10 01:13:16,627] INFO - scvi.dataset.dataset | Downsampled from 2058652 to 2058652 cells\n",
      "INFO:scvi.dataset.dataset:Downsampled from 2058652 to 2058652 cells\n",
      "[2019-11-10 01:13:20,426] INFO - scvi.dataset.dataset | Computing the library size for the new data\n",
      "INFO:scvi.dataset.dataset:Computing the library size for the new data\n",
      "[2019-11-10 01:13:20,548] INFO - scvi.dataset.dataset | Downsampled from 2058652 to 5000 cells\n",
      "INFO:scvi.dataset.dataset:Downsampled from 2058652 to 5000 cells\n",
      "[2019-11-10 01:13:20,994] INFO - scvi.dataset.dataset | Downsampling from 26183 to 1000 genes\n",
      "INFO:scvi.dataset.dataset:Downsampling from 26183 to 1000 genes\n",
      "[2019-11-10 01:13:21,080] INFO - scvi.dataset.dataset | Computing the library size for the new data\n",
      "INFO:scvi.dataset.dataset:Computing the library size for the new data\n",
      "[2019-11-10 01:13:21,117] INFO - scvi.dataset.dataset | Filtering non-expressing cells.\n",
      "INFO:scvi.dataset.dataset:Filtering non-expressing cells.\n",
      "[2019-11-10 01:13:21,148] INFO - scvi.dataset.dataset | Computing the library size for the new data\n",
      "INFO:scvi.dataset.dataset:Computing the library size for the new data\n",
      "[2019-11-10 01:13:21,175] INFO - scvi.dataset.dataset | Downsampled from 5000 to 5000 cells\n",
      "INFO:scvi.dataset.dataset:Downsampled from 5000 to 5000 cells\n"
     ]
    },
    {
     "name": "stdout",
     "output_type": "stream",
     "text": [
      "training: 100%|████████████████████████████████████████████████████████████████████████████████████████████████████████████████████████████████████| 10/10 [00:16<00:00,  1.60s/it]\n"
     ]
    },
    {
     "name": "stderr",
     "output_type": "stream",
     "text": [
      "[2019-11-10 01:14:02,324] INFO - scvi.dataset.dataset | Remapping batch_indices to [0,N]\n",
      "INFO:scvi.dataset.dataset:Remapping batch_indices to [0,N]\n",
      "[2019-11-10 01:14:02,449] INFO - scvi.dataset.dataset | Remapping labels to [0,N]\n",
      "INFO:scvi.dataset.dataset:Remapping labels to [0,N]\n",
      "[2019-11-10 01:14:09,239] INFO - scvi.dataset.dataset | Computing the library size for the new data\n",
      "INFO:scvi.dataset.dataset:Computing the library size for the new data\n",
      "[2019-11-10 01:14:33,893] INFO - scvi.dataset.dataset | Downsampled from 2058652 to 2058652 cells\n",
      "INFO:scvi.dataset.dataset:Downsampled from 2058652 to 2058652 cells\n",
      "[2019-11-10 01:14:37,994] INFO - scvi.dataset.dataset | Computing the library size for the new data\n",
      "INFO:scvi.dataset.dataset:Computing the library size for the new data\n",
      "[2019-11-10 01:14:38,114] INFO - scvi.dataset.dataset | Downsampled from 2058652 to 10000 cells\n",
      "INFO:scvi.dataset.dataset:Downsampled from 2058652 to 10000 cells\n",
      "[2019-11-10 01:14:38,600] INFO - scvi.dataset.dataset | Downsampling from 26183 to 1000 genes\n",
      "INFO:scvi.dataset.dataset:Downsampling from 26183 to 1000 genes\n",
      "[2019-11-10 01:14:38,724] INFO - scvi.dataset.dataset | Computing the library size for the new data\n",
      "INFO:scvi.dataset.dataset:Computing the library size for the new data\n",
      "[2019-11-10 01:14:38,776] INFO - scvi.dataset.dataset | Filtering non-expressing cells.\n",
      "INFO:scvi.dataset.dataset:Filtering non-expressing cells.\n",
      "[2019-11-10 01:14:38,812] INFO - scvi.dataset.dataset | Computing the library size for the new data\n",
      "INFO:scvi.dataset.dataset:Computing the library size for the new data\n",
      "[2019-11-10 01:14:38,850] INFO - scvi.dataset.dataset | Downsampled from 10000 to 10000 cells\n",
      "INFO:scvi.dataset.dataset:Downsampled from 10000 to 10000 cells\n"
     ]
    },
    {
     "name": "stdout",
     "output_type": "stream",
     "text": [
      "training: 100%|████████████████████████████████████████████████████████████████████████████████████████████████████████████████████████████████████| 10/10 [00:31<00:00,  3.16s/it]\n"
     ]
    },
    {
     "name": "stderr",
     "output_type": "stream",
     "text": [
      "[2019-11-10 01:15:28,228] INFO - scvi.dataset.dataset | Remapping batch_indices to [0,N]\n",
      "INFO:scvi.dataset.dataset:Remapping batch_indices to [0,N]\n",
      "[2019-11-10 01:15:28,339] INFO - scvi.dataset.dataset | Remapping labels to [0,N]\n",
      "INFO:scvi.dataset.dataset:Remapping labels to [0,N]\n",
      "[2019-11-10 01:15:34,905] INFO - scvi.dataset.dataset | Computing the library size for the new data\n",
      "INFO:scvi.dataset.dataset:Computing the library size for the new data\n",
      "[2019-11-10 01:16:01,223] INFO - scvi.dataset.dataset | Downsampled from 2058652 to 2058652 cells\n",
      "INFO:scvi.dataset.dataset:Downsampled from 2058652 to 2058652 cells\n",
      "[2019-11-10 01:16:05,461] INFO - scvi.dataset.dataset | Computing the library size for the new data\n",
      "INFO:scvi.dataset.dataset:Computing the library size for the new data\n",
      "[2019-11-10 01:16:05,686] INFO - scvi.dataset.dataset | Downsampled from 2058652 to 20000 cells\n",
      "INFO:scvi.dataset.dataset:Downsampled from 2058652 to 20000 cells\n",
      "[2019-11-10 01:16:06,601] INFO - scvi.dataset.dataset | Downsampling from 26183 to 1000 genes\n",
      "INFO:scvi.dataset.dataset:Downsampling from 26183 to 1000 genes\n",
      "[2019-11-10 01:16:06,862] INFO - scvi.dataset.dataset | Computing the library size for the new data\n",
      "INFO:scvi.dataset.dataset:Computing the library size for the new data\n",
      "[2019-11-10 01:16:06,934] INFO - scvi.dataset.dataset | Filtering non-expressing cells.\n",
      "INFO:scvi.dataset.dataset:Filtering non-expressing cells.\n",
      "[2019-11-10 01:16:07,009] INFO - scvi.dataset.dataset | Computing the library size for the new data\n",
      "INFO:scvi.dataset.dataset:Computing the library size for the new data\n",
      "[2019-11-10 01:16:07,085] INFO - scvi.dataset.dataset | Downsampled from 20000 to 20000 cells\n",
      "INFO:scvi.dataset.dataset:Downsampled from 20000 to 20000 cells\n"
     ]
    },
    {
     "name": "stdout",
     "output_type": "stream",
     "text": [
      "training: 100%|████████████████████████████████████████████████████████████████████████████████████████████████████████████████████████████████████| 10/10 [01:03<00:00,  6.32s/it]\n"
     ]
    },
    {
     "name": "stderr",
     "output_type": "stream",
     "text": [
      "[2019-11-10 01:17:30,999] INFO - scvi.dataset.dataset | Remapping batch_indices to [0,N]\n",
      "INFO:scvi.dataset.dataset:Remapping batch_indices to [0,N]\n",
      "[2019-11-10 01:17:31,112] INFO - scvi.dataset.dataset | Remapping labels to [0,N]\n",
      "INFO:scvi.dataset.dataset:Remapping labels to [0,N]\n",
      "[2019-11-10 01:17:38,025] INFO - scvi.dataset.dataset | Computing the library size for the new data\n",
      "INFO:scvi.dataset.dataset:Computing the library size for the new data\n",
      "[2019-11-10 01:18:01,036] INFO - scvi.dataset.dataset | Downsampled from 2058652 to 2058652 cells\n",
      "INFO:scvi.dataset.dataset:Downsampled from 2058652 to 2058652 cells\n",
      "[2019-11-10 01:18:05,021] INFO - scvi.dataset.dataset | Computing the library size for the new data\n",
      "INFO:scvi.dataset.dataset:Computing the library size for the new data\n",
      "[2019-11-10 01:18:05,464] INFO - scvi.dataset.dataset | Downsampled from 2058652 to 40000 cells\n",
      "INFO:scvi.dataset.dataset:Downsampled from 2058652 to 40000 cells\n",
      "[2019-11-10 01:18:07,145] INFO - scvi.dataset.dataset | Downsampling from 26183 to 1000 genes\n",
      "INFO:scvi.dataset.dataset:Downsampling from 26183 to 1000 genes\n",
      "[2019-11-10 01:18:07,570] INFO - scvi.dataset.dataset | Computing the library size for the new data\n",
      "INFO:scvi.dataset.dataset:Computing the library size for the new data\n",
      "[2019-11-10 01:18:07,691] INFO - scvi.dataset.dataset | Filtering non-expressing cells.\n",
      "INFO:scvi.dataset.dataset:Filtering non-expressing cells.\n",
      "[2019-11-10 01:18:07,808] INFO - scvi.dataset.dataset | Computing the library size for the new data\n",
      "INFO:scvi.dataset.dataset:Computing the library size for the new data\n",
      "[2019-11-10 01:18:07,931] INFO - scvi.dataset.dataset | Downsampled from 40000 to 40000 cells\n",
      "INFO:scvi.dataset.dataset:Downsampled from 40000 to 40000 cells\n"
     ]
    },
    {
     "name": "stdout",
     "output_type": "stream",
     "text": [
      "training: 100%|████████████████████████████████████████████████████████████████████████████████████████████████████████████████████████████████████| 10/10 [02:04<00:00, 12.42s/it]\n"
     ]
    },
    {
     "name": "stderr",
     "output_type": "stream",
     "text": [
      "[2019-11-10 01:20:35,666] INFO - scvi.dataset.dataset | Remapping batch_indices to [0,N]\n",
      "INFO:scvi.dataset.dataset:Remapping batch_indices to [0,N]\n",
      "[2019-11-10 01:20:35,773] INFO - scvi.dataset.dataset | Remapping labels to [0,N]\n",
      "INFO:scvi.dataset.dataset:Remapping labels to [0,N]\n",
      "[2019-11-10 01:20:42,570] INFO - scvi.dataset.dataset | Computing the library size for the new data\n",
      "INFO:scvi.dataset.dataset:Computing the library size for the new data\n",
      "[2019-11-10 01:21:05,010] INFO - scvi.dataset.dataset | Downsampled from 2058652 to 2058652 cells\n",
      "INFO:scvi.dataset.dataset:Downsampled from 2058652 to 2058652 cells\n",
      "[2019-11-10 01:21:09,214] INFO - scvi.dataset.dataset | Computing the library size for the new data\n",
      "INFO:scvi.dataset.dataset:Computing the library size for the new data\n",
      "[2019-11-10 01:21:09,959] INFO - scvi.dataset.dataset | Downsampled from 2058652 to 80000 cells\n",
      "INFO:scvi.dataset.dataset:Downsampled from 2058652 to 80000 cells\n",
      "[2019-11-10 01:21:12,961] INFO - scvi.dataset.dataset | Downsampling from 26183 to 1000 genes\n",
      "INFO:scvi.dataset.dataset:Downsampling from 26183 to 1000 genes\n",
      "[2019-11-10 01:21:13,788] INFO - scvi.dataset.dataset | Computing the library size for the new data\n",
      "INFO:scvi.dataset.dataset:Computing the library size for the new data\n",
      "[2019-11-10 01:21:14,011] INFO - scvi.dataset.dataset | Filtering non-expressing cells.\n",
      "INFO:scvi.dataset.dataset:Filtering non-expressing cells.\n",
      "[2019-11-10 01:21:14,223] INFO - scvi.dataset.dataset | Computing the library size for the new data\n",
      "INFO:scvi.dataset.dataset:Computing the library size for the new data\n",
      "[2019-11-10 01:21:14,438] INFO - scvi.dataset.dataset | Downsampled from 80000 to 80000 cells\n",
      "INFO:scvi.dataset.dataset:Downsampled from 80000 to 80000 cells\n"
     ]
    },
    {
     "name": "stdout",
     "output_type": "stream",
     "text": [
      "training: 100%|████████████████████████████████████████████████████████████████████████████████████████████████████████████████████████████████████| 10/10 [04:14<00:00, 25.47s/it]\n"
     ]
    },
    {
     "name": "stderr",
     "output_type": "stream",
     "text": [
      "[2019-11-10 01:25:56,427] INFO - scvi.dataset.dataset | Remapping batch_indices to [0,N]\n",
      "INFO:scvi.dataset.dataset:Remapping batch_indices to [0,N]\n",
      "[2019-11-10 01:25:56,543] INFO - scvi.dataset.dataset | Remapping labels to [0,N]\n",
      "INFO:scvi.dataset.dataset:Remapping labels to [0,N]\n",
      "[2019-11-10 01:26:02,985] INFO - scvi.dataset.dataset | Computing the library size for the new data\n",
      "INFO:scvi.dataset.dataset:Computing the library size for the new data\n",
      "[2019-11-10 01:26:28,494] INFO - scvi.dataset.dataset | Downsampled from 2058652 to 2058652 cells\n",
      "INFO:scvi.dataset.dataset:Downsampled from 2058652 to 2058652 cells\n",
      "[2019-11-10 01:26:33,158] INFO - scvi.dataset.dataset | Computing the library size for the new data\n",
      "INFO:scvi.dataset.dataset:Computing the library size for the new data\n",
      "[2019-11-10 01:26:34,568] INFO - scvi.dataset.dataset | Downsampled from 2058652 to 160000 cells\n",
      "INFO:scvi.dataset.dataset:Downsampled from 2058652 to 160000 cells\n",
      "[2019-11-10 01:26:40,021] INFO - scvi.dataset.dataset | Downsampling from 26183 to 1000 genes\n",
      "INFO:scvi.dataset.dataset:Downsampling from 26183 to 1000 genes\n",
      "[2019-11-10 01:26:41,566] INFO - scvi.dataset.dataset | Computing the library size for the new data\n",
      "INFO:scvi.dataset.dataset:Computing the library size for the new data\n",
      "[2019-11-10 01:26:41,996] INFO - scvi.dataset.dataset | Filtering non-expressing cells.\n",
      "INFO:scvi.dataset.dataset:Filtering non-expressing cells.\n",
      "[2019-11-10 01:26:42,393] INFO - scvi.dataset.dataset | Computing the library size for the new data\n",
      "INFO:scvi.dataset.dataset:Computing the library size for the new data\n",
      "[2019-11-10 01:26:42,789] INFO - scvi.dataset.dataset | Downsampled from 160000 to 160000 cells\n",
      "INFO:scvi.dataset.dataset:Downsampled from 160000 to 160000 cells\n"
     ]
    },
    {
     "name": "stdout",
     "output_type": "stream",
     "text": [
      "training: 100%|████████████████████████████████████████████████████████████████████████████████████████████████████████████████████████████████████| 10/10 [08:32<00:00, 51.30s/it]\n"
     ]
    },
    {
     "name": "stderr",
     "output_type": "stream",
     "text": [
      "[2019-11-10 01:35:50,007] INFO - scvi.dataset.dataset | Remapping batch_indices to [0,N]\n",
      "INFO:scvi.dataset.dataset:Remapping batch_indices to [0,N]\n",
      "[2019-11-10 01:35:50,151] INFO - scvi.dataset.dataset | Remapping labels to [0,N]\n",
      "INFO:scvi.dataset.dataset:Remapping labels to [0,N]\n",
      "[2019-11-10 01:35:57,150] INFO - scvi.dataset.dataset | Computing the library size for the new data\n",
      "INFO:scvi.dataset.dataset:Computing the library size for the new data\n",
      "[2019-11-10 01:36:16,565] INFO - scvi.dataset.dataset | Downsampled from 2058652 to 2058652 cells\n",
      "INFO:scvi.dataset.dataset:Downsampled from 2058652 to 2058652 cells\n",
      "[2019-11-10 01:36:22,045] INFO - scvi.dataset.dataset | Computing the library size for the new data\n",
      "INFO:scvi.dataset.dataset:Computing the library size for the new data\n",
      "[2019-11-10 01:36:24,418] INFO - scvi.dataset.dataset | Downsampled from 2058652 to 320000 cells\n",
      "INFO:scvi.dataset.dataset:Downsampled from 2058652 to 320000 cells\n",
      "[2019-11-10 01:36:34,212] INFO - scvi.dataset.dataset | Downsampling from 26183 to 1000 genes\n",
      "INFO:scvi.dataset.dataset:Downsampling from 26183 to 1000 genes\n",
      "[2019-11-10 01:36:36,941] INFO - scvi.dataset.dataset | Computing the library size for the new data\n",
      "INFO:scvi.dataset.dataset:Computing the library size for the new data\n",
      "[2019-11-10 01:36:37,741] INFO - scvi.dataset.dataset | Filtering non-expressing cells.\n",
      "INFO:scvi.dataset.dataset:Filtering non-expressing cells.\n",
      "[2019-11-10 01:36:38,463] INFO - scvi.dataset.dataset | Computing the library size for the new data\n",
      "INFO:scvi.dataset.dataset:Computing the library size for the new data\n",
      "[2019-11-10 01:36:39,225] INFO - scvi.dataset.dataset | Downsampled from 320000 to 320000 cells\n",
      "INFO:scvi.dataset.dataset:Downsampled from 320000 to 320000 cells\n"
     ]
    },
    {
     "name": "stdout",
     "output_type": "stream",
     "text": [
      "training: 100%|███████████████████████████████████████████████████████████████████████████████████████████████████████████████████████████████████| 10/10 [17:06<00:00, 102.63s/it]\n"
     ]
    },
    {
     "name": "stderr",
     "output_type": "stream",
     "text": [
      "[2019-11-10 01:54:36,445] INFO - scvi.dataset.dataset | Remapping batch_indices to [0,N]\n",
      "INFO:scvi.dataset.dataset:Remapping batch_indices to [0,N]\n",
      "[2019-11-10 01:54:36,570] INFO - scvi.dataset.dataset | Remapping labels to [0,N]\n",
      "INFO:scvi.dataset.dataset:Remapping labels to [0,N]\n",
      "[2019-11-10 01:54:43,060] INFO - scvi.dataset.dataset | Computing the library size for the new data\n",
      "INFO:scvi.dataset.dataset:Computing the library size for the new data\n",
      "[2019-11-10 01:55:08,153] INFO - scvi.dataset.dataset | Downsampled from 2058652 to 2058652 cells\n",
      "INFO:scvi.dataset.dataset:Downsampled from 2058652 to 2058652 cells\n",
      "[2019-11-10 01:55:14,869] INFO - scvi.dataset.dataset | Computing the library size for the new data\n",
      "INFO:scvi.dataset.dataset:Computing the library size for the new data\n",
      "[2019-11-10 01:55:18,732] INFO - scvi.dataset.dataset | Downsampled from 2058652 to 640000 cells\n",
      "INFO:scvi.dataset.dataset:Downsampled from 2058652 to 640000 cells\n",
      "[2019-11-10 01:55:35,860] INFO - scvi.dataset.dataset | Downsampling from 26183 to 1000 genes\n",
      "INFO:scvi.dataset.dataset:Downsampling from 26183 to 1000 genes\n",
      "[2019-11-10 01:55:40,471] INFO - scvi.dataset.dataset | Computing the library size for the new data\n",
      "INFO:scvi.dataset.dataset:Computing the library size for the new data\n",
      "[2019-11-10 01:55:41,832] INFO - scvi.dataset.dataset | Filtering non-expressing cells.\n",
      "INFO:scvi.dataset.dataset:Filtering non-expressing cells.\n",
      "[2019-11-10 01:55:43,120] INFO - scvi.dataset.dataset | Computing the library size for the new data\n",
      "INFO:scvi.dataset.dataset:Computing the library size for the new data\n",
      "[2019-11-10 01:55:44,415] INFO - scvi.dataset.dataset | Downsampled from 640000 to 640000 cells\n",
      "INFO:scvi.dataset.dataset:Downsampled from 640000 to 640000 cells\n"
     ]
    },
    {
     "name": "stdout",
     "output_type": "stream",
     "text": [
      "training: 100%|███████████████████████████████████████████████████████████████████████████████████████████████████████████████████████████████████| 10/10 [35:27<00:00, 212.72s/it]\n"
     ]
    },
    {
     "name": "stderr",
     "output_type": "stream",
     "text": [
      "[2019-11-10 02:32:30,547] INFO - scvi.dataset.dataset | Remapping batch_indices to [0,N]\n",
      "INFO:scvi.dataset.dataset:Remapping batch_indices to [0,N]\n",
      "[2019-11-10 02:32:30,703] INFO - scvi.dataset.dataset | Remapping labels to [0,N]\n",
      "INFO:scvi.dataset.dataset:Remapping labels to [0,N]\n",
      "[2019-11-10 02:32:37,292] INFO - scvi.dataset.dataset | Computing the library size for the new data\n",
      "INFO:scvi.dataset.dataset:Computing the library size for the new data\n",
      "[2019-11-10 02:33:00,566] INFO - scvi.dataset.dataset | Downsampled from 2058652 to 2058652 cells\n",
      "INFO:scvi.dataset.dataset:Downsampled from 2058652 to 2058652 cells\n",
      "[2019-11-10 02:33:09,434] INFO - scvi.dataset.dataset | Computing the library size for the new data\n",
      "INFO:scvi.dataset.dataset:Computing the library size for the new data\n",
      "[2019-11-10 02:33:15,217] INFO - scvi.dataset.dataset | Downsampled from 2058652 to 1280000 cells\n",
      "INFO:scvi.dataset.dataset:Downsampled from 2058652 to 1280000 cells\n",
      "[2019-11-10 02:35:43,226] INFO - scvi.dataset.dataset | Downsampling from 26183 to 1000 genes\n",
      "INFO:scvi.dataset.dataset:Downsampling from 26183 to 1000 genes\n",
      "[2019-11-10 02:36:04,230] INFO - scvi.dataset.dataset | Computing the library size for the new data\n",
      "INFO:scvi.dataset.dataset:Computing the library size for the new data\n",
      "[2019-11-10 02:36:06,419] INFO - scvi.dataset.dataset | Filtering non-expressing cells.\n",
      "INFO:scvi.dataset.dataset:Filtering non-expressing cells.\n",
      "[2019-11-10 02:36:08,590] INFO - scvi.dataset.dataset | Computing the library size for the new data\n",
      "INFO:scvi.dataset.dataset:Computing the library size for the new data\n",
      "[2019-11-10 02:36:10,697] INFO - scvi.dataset.dataset | Downsampled from 1280000 to 1280000 cells\n",
      "INFO:scvi.dataset.dataset:Downsampled from 1280000 to 1280000 cells\n"
     ]
    },
    {
     "name": "stdout",
     "output_type": "stream",
     "text": [
      "training: 100%|█████████████████████████████████████████████████████████████████████████████████████████████████████████████████████████████████| 10/10 [1:15:25<00:00, 452.57s/it]\n"
     ]
    },
    {
     "name": "stderr",
     "output_type": "stream",
     "text": [
      "[2019-11-10 03:54:04,507] INFO - scvi.dataset.dataset | Remapping batch_indices to [0,N]\n",
      "INFO:scvi.dataset.dataset:Remapping batch_indices to [0,N]\n",
      "[2019-11-10 03:54:04,665] INFO - scvi.dataset.dataset | Remapping labels to [0,N]\n",
      "INFO:scvi.dataset.dataset:Remapping labels to [0,N]\n",
      "[2019-11-10 03:54:11,671] INFO - scvi.dataset.dataset | Computing the library size for the new data\n",
      "INFO:scvi.dataset.dataset:Computing the library size for the new data\n",
      "[2019-11-10 03:54:31,268] INFO - scvi.dataset.dataset | Downsampled from 2058652 to 2058652 cells\n",
      "INFO:scvi.dataset.dataset:Downsampled from 2058652 to 2058652 cells\n",
      "[2019-11-10 03:54:41,250] INFO - scvi.dataset.dataset | Computing the library size for the new data\n",
      "INFO:scvi.dataset.dataset:Computing the library size for the new data\n",
      "[2019-11-10 03:54:48,217] INFO - scvi.dataset.dataset | Downsampled from 2058652 to 1949131 cells\n",
      "INFO:scvi.dataset.dataset:Downsampled from 2058652 to 1949131 cells\n",
      "[2019-11-10 03:56:53,804] INFO - scvi.dataset.dataset | Downsampling from 26183 to 1000 genes\n",
      "INFO:scvi.dataset.dataset:Downsampling from 26183 to 1000 genes\n",
      "[2019-11-10 03:57:21,618] INFO - scvi.dataset.dataset | Computing the library size for the new data\n",
      "INFO:scvi.dataset.dataset:Computing the library size for the new data\n",
      "[2019-11-10 03:57:24,419] INFO - scvi.dataset.dataset | Filtering non-expressing cells.\n",
      "INFO:scvi.dataset.dataset:Filtering non-expressing cells.\n",
      "[2019-11-10 03:57:27,236] INFO - scvi.dataset.dataset | Computing the library size for the new data\n",
      "INFO:scvi.dataset.dataset:Computing the library size for the new data\n",
      "[2019-11-10 03:57:29,891] INFO - scvi.dataset.dataset | Downsampled from 1949131 to 1949131 cells\n",
      "INFO:scvi.dataset.dataset:Downsampled from 1949131 to 1949131 cells\n"
     ]
    },
    {
     "name": "stdout",
     "output_type": "stream",
     "text": [
      "training: 100%|█████████████████████████████████████████████████████████████████████████████████████████████████████████████████████████████████| 10/10 [2:03:33<00:00, 741.31s/it]\n"
     ]
    }
   ],
   "source": [
    "inference_times_cpu = []\n",
    "train_histories_cpu = []\n",
    "for n_cells in cell_numbers:\n",
    "    cells_dataset = create_dataset()\n",
    "    cells_dataset.subsample_cells(n_cells)\n",
    "    cells_dataset.subsample_genes(1000)\n",
    "    \n",
    "    vae = LDVAE(\n",
    "        cells_dataset.nb_genes,\n",
    "        reconstruction_loss='nb',\n",
    "        use_batch_norm=True,\n",
    "        latent_distribution='normal',\n",
    "        n_latent=20\n",
    "    )\n",
    "    \n",
    "    trainer = UnsupervisedTrainer(vae,\n",
    "                              cells_dataset,\n",
    "                              frequency=1,\n",
    "                              use_cuda=False\n",
    "                             )\n",
    "    \n",
    "    t0 = time.time()\n",
    "    trainer.train(n_epochs=10)\n",
    "    t = time.time() - t0\n",
    "    \n",
    "    inference_times_cpu.append(t)\n",
    "    "
   ]
  },
  {
   "cell_type": "code",
   "execution_count": 26,
   "metadata": {},
   "outputs": [
    {
     "data": {
      "image/png": "[encoded data removed]",
      "text/plain": [
       "<Figure size 432x288 with 1 Axes>"
      ]
     },
     "metadata": {
      "needs_background": "light"
     },
     "output_type": "display_data"
    }
   ],
   "source": [
    "plt.loglog()\n",
    "plt.scatter(cell_numbers, inference_times);\n",
    "plt.scatter(cell_numbers, inference_times_cpu);\n",
    "plt.ylim(bottom=5e0, top=1e4)\n",
    "plt.xlim(left=1e3, right=3e6);"
   ]
  },
  {
   "cell_type": "code",
   "execution_count": 15,
   "metadata": {},
   "outputs": [],
   "source": [
    "infer_time_df = \\\n",
    "pd.DataFrame({'cell_numbers': cell_numbers,\n",
    "              'gpu_inference_time': inference_times,\n",
    "              'cpu_inference_time': inference_times_cpu})"
   ]
  },
  {
   "cell_type": "code",
   "execution_count": 18,
   "metadata": {},
   "outputs": [],
   "source": [
    "infer_time_df.to_csv('cao_linear_inference_times.csv')"
   ]
  },
  {
   "cell_type": "code",
   "execution_count": 19,
   "metadata": {},
   "outputs": [
    {
     "data": {
      "image/png": "[encoded data removed]",
      "text/plain": [
       "<Figure size 432x288 with 1 Axes>"
      ]
     },
     "metadata": {
      "needs_background": "light"
     },
     "output_type": "display_data"
    }
   ],
   "source": [
    "for n, th in zip(cell_numbers, train_histories):\n",
    "    plt.plot(th, label=n)\n",
    "    \n",
    "plt.legend();"
   ]
  },
  {
   "cell_type": "code",
   "execution_count": 20,
   "metadata": {},
   "outputs": [],
   "source": [
    "train_h_df = pd.DataFrame(np.array(train_histories), index=cell_numbers)"
   ]
  },
  {
   "cell_type": "code",
   "execution_count": 21,
   "metadata": {},
   "outputs": [],
   "source": [
    "train_h_df.to_csv('cao_linear_train_history.csv')"
   ]
  },
  {
   "cell_type": "code",
   "execution_count": null,
   "metadata": {},
   "outputs": [],
   "source": []
  },
  {
   "cell_type": "code",
   "execution_count": null,
   "metadata": {},
   "outputs": [],
   "source": []
  },
  {
   "cell_type": "code",
   "execution_count": null,
   "metadata": {},
   "outputs": [],
   "source": []
  },
  {
   "cell_type": "code",
   "execution_count": null,
   "metadata": {},
   "outputs": [],
   "source": []
  },
  {
   "cell_type": "code",
   "execution_count": null,
   "metadata": {},
   "outputs": [],
   "source": []
  }
 ],
 "metadata": {
  "kernelspec": {
   "display_name": "Python 3",
   "language": "python",
   "name": "python3"
  },
  "language_info": {
   "codemirror_mode": {
    "name": "ipython",
    "version": 3
   },
   "file_extension": ".py",
   "mimetype": "text/x-python",
   "name": "python",
   "nbconvert_exporter": "python",
   "pygments_lexer": "ipython3",
   "version": "3.7.4"
  }
 },
 "nbformat": 4,
 "nbformat_minor": 2
}
