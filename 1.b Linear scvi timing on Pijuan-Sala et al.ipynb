{
 "cells": [
  {
   "cell_type": "code",
   "execution_count": 1,
   "metadata": {},
   "outputs": [
    {
     "name": "stdout",
     "output_type": "stream",
     "text": [
      "Populating the interactive namespace from numpy and matplotlib\n"
     ]
    },
    {
     "name": "stderr",
     "output_type": "stream",
     "text": [
      "[2019-12-29 22:27:51,204] INFO - scvi._settings | Added StreamHandler with custom formatter to 'scvi' logger.\n",
      "C:\\Users\\vale\\Anaconda3\\lib\\site-packages\\sklearn\\utils\\linear_assignment_.py:21: DeprecationWarning: The linear_assignment_ module is deprecated in 0.21 and will be removed from 0.23. Use scipy.optimize.linear_sum_assignment instead.\n",
      "  DeprecationWarning)\n"
     ]
    }
   ],
   "source": [
    "%pylab inline\n",
    "import time\n",
    "\n",
    "import pandas as pd\n",
    "import anndata\n",
    "\n",
    "import torch\n",
    "\n",
    "from scvi.dataset import AnnDatasetFromAnnData\n",
    "from scvi.models import LDVAE\n",
    "from scvi.inference import UnsupervisedTrainer\n",
    "from scvi.inference.posterior import Posterior"
   ]
  },
  {
   "cell_type": "code",
   "execution_count": 2,
   "metadata": {},
   "outputs": [],
   "source": [
    "adata = anndata.read('pijuan_sala_atlas.h5ad')"
   ]
  },
  {
   "cell_type": "code",
   "execution_count": 3,
   "metadata": {},
   "outputs": [],
   "source": [
    "idx = adata.obs.query('not doublet').index\n",
    "# idx = np.random.choice(idx, 20000, replace=False)\n",
    "adata = adata[idx]"
   ]
  },
  {
   "cell_type": "code",
   "execution_count": 4,
   "metadata": {},
   "outputs": [
    {
     "data": {
      "text/plain": [
       "0.1144419646406324"
      ]
     },
     "execution_count": 4,
     "metadata": {},
     "output_type": "execute_result"
    }
   ],
   "source": [
    "adata.X.getnnz() / (adata.X.shape[0] * adata.X.shape[1])"
   ]
  },
  {
   "cell_type": "code",
   "execution_count": 4,
   "metadata": {},
   "outputs": [],
   "source": [
    "cell_numbers = [2500 * 2 ** i for i in range(10)] + [idx.shape[0]]"
   ]
  },
  {
   "cell_type": "code",
   "execution_count": 5,
   "metadata": {},
   "outputs": [],
   "source": [
    "s_adata = adata[idx]"
   ]
  },
  {
   "cell_type": "code",
   "execution_count": 8,
   "metadata": {},
   "outputs": [
    {
     "name": "stderr",
     "output_type": "stream",
     "text": [
      "[2019-11-09 19:47:36,578] INFO - scvi.dataset.dataset | Remapping labels to [0,N]\n",
      "[2019-11-09 19:47:36,583] INFO - scvi.dataset.dataset | Remapping batch_indices to [0,N]\n",
      "[2019-11-09 19:47:38,454] INFO - scvi.dataset.dataset | Computing the library size for the new data\n",
      "[2019-11-09 19:47:43,237] INFO - scvi.dataset.dataset | Downsampled from 125775 to 125775 cells\n"
     ]
    }
   ],
   "source": [
    "cells_dataset = AnnDatasetFromAnnData(adata)"
   ]
  },
  {
   "cell_type": "code",
   "execution_count": 9,
   "metadata": {},
   "outputs": [],
   "source": [
    "def create_dataset():\n",
    "    cells_dataset = \\\n",
    "    cells_dataset = AnnDatasetFromAnnData(adata)\n",
    "    return cells_dataset"
   ]
  },
  {
   "cell_type": "code",
   "execution_count": 10,
   "metadata": {
    "scrolled": false
   },
   "outputs": [
    {
     "name": "stderr",
     "output_type": "stream",
     "text": [
      "[2019-11-09 19:49:16,740] INFO - scvi.dataset.dataset | Remapping labels to [0,N]\n",
      "[2019-11-09 19:49:16,745] INFO - scvi.dataset.dataset | Remapping batch_indices to [0,N]\n",
      "[2019-11-09 19:49:18,568] INFO - scvi.dataset.dataset | Computing the library size for the new data\n",
      "[2019-11-09 19:49:22,490] INFO - scvi.dataset.dataset | Downsampled from 125775 to 125775 cells\n",
      "[2019-11-09 19:49:23,921] INFO - scvi.dataset.dataset | Computing the library size for the new data\n",
      "[2019-11-09 19:49:23,998] INFO - scvi.dataset.dataset | Downsampled from 125775 to 2500 cells\n",
      "[2019-11-09 19:49:24,352] INFO - scvi.dataset.dataset | Downsampling from 29452 to 1000 genes\n",
      "[2019-11-09 19:49:24,416] INFO - scvi.dataset.dataset | Computing the library size for the new data\n",
      "[2019-11-09 19:49:24,444] INFO - scvi.dataset.dataset | Filtering non-expressing cells.\n",
      "[2019-11-09 19:49:24,471] INFO - scvi.dataset.dataset | Computing the library size for the new data\n",
      "[2019-11-09 19:49:24,487] INFO - scvi.dataset.dataset | Downsampled from 2500 to 2500 cells\n"
     ]
    },
    {
     "name": "stdout",
     "output_type": "stream",
     "text": [
      "training: 100%|████████████████████████████████████████████████████████████████████████| 10/10 [00:05<00:00,  1.72it/s]\n"
     ]
    },
    {
     "name": "stderr",
     "output_type": "stream",
     "text": [
      "[2019-11-09 19:49:38,746] INFO - scvi.dataset.dataset | Remapping labels to [0,N]\n",
      "INFO:scvi.dataset.dataset:Remapping labels to [0,N]\n",
      "[2019-11-09 19:49:38,752] INFO - scvi.dataset.dataset | Remapping batch_indices to [0,N]\n",
      "INFO:scvi.dataset.dataset:Remapping batch_indices to [0,N]\n",
      "[2019-11-09 19:49:40,874] INFO - scvi.dataset.dataset | Computing the library size for the new data\n",
      "INFO:scvi.dataset.dataset:Computing the library size for the new data\n",
      "[2019-11-09 19:49:43,450] INFO - scvi.dataset.dataset | Downsampled from 125775 to 125775 cells\n",
      "INFO:scvi.dataset.dataset:Downsampled from 125775 to 125775 cells\n",
      "[2019-11-09 19:49:44,660] INFO - scvi.dataset.dataset | Computing the library size for the new data\n",
      "INFO:scvi.dataset.dataset:Computing the library size for the new data\n",
      "[2019-11-09 19:49:44,801] INFO - scvi.dataset.dataset | Downsampled from 125775 to 5000 cells\n",
      "INFO:scvi.dataset.dataset:Downsampled from 125775 to 5000 cells\n",
      "[2019-11-09 19:49:45,408] INFO - scvi.dataset.dataset | Downsampling from 29452 to 1000 genes\n",
      "INFO:scvi.dataset.dataset:Downsampling from 29452 to 1000 genes\n",
      "[2019-11-09 19:49:45,524] INFO - scvi.dataset.dataset | Computing the library size for the new data\n",
      "INFO:scvi.dataset.dataset:Computing the library size for the new data\n",
      "[2019-11-09 19:49:45,553] INFO - scvi.dataset.dataset | Filtering non-expressing cells.\n",
      "INFO:scvi.dataset.dataset:Filtering non-expressing cells.\n",
      "[2019-11-09 19:49:45,594] INFO - scvi.dataset.dataset | Computing the library size for the new data\n",
      "INFO:scvi.dataset.dataset:Computing the library size for the new data\n",
      "[2019-11-09 19:49:45,639] INFO - scvi.dataset.dataset | Downsampled from 5000 to 5000 cells\n",
      "INFO:scvi.dataset.dataset:Downsampled from 5000 to 5000 cells\n"
     ]
    },
    {
     "name": "stdout",
     "output_type": "stream",
     "text": [
      "training: 100%|████████████████████████████████████████████████████████████████████████| 10/10 [00:10<00:00,  1.10s/it]\n"
     ]
    },
    {
     "name": "stderr",
     "output_type": "stream",
     "text": [
      "[2019-11-09 19:49:59,893] INFO - scvi.dataset.dataset | Remapping labels to [0,N]\n",
      "INFO:scvi.dataset.dataset:Remapping labels to [0,N]\n",
      "[2019-11-09 19:49:59,899] INFO - scvi.dataset.dataset | Remapping batch_indices to [0,N]\n",
      "INFO:scvi.dataset.dataset:Remapping batch_indices to [0,N]\n",
      "[2019-11-09 19:50:01,838] INFO - scvi.dataset.dataset | Computing the library size for the new data\n",
      "INFO:scvi.dataset.dataset:Computing the library size for the new data\n",
      "[2019-11-09 19:50:04,010] INFO - scvi.dataset.dataset | Downsampled from 125775 to 125775 cells\n",
      "INFO:scvi.dataset.dataset:Downsampled from 125775 to 125775 cells\n",
      "[2019-11-09 19:50:05,303] INFO - scvi.dataset.dataset | Computing the library size for the new data\n",
      "INFO:scvi.dataset.dataset:Computing the library size for the new data\n",
      "[2019-11-09 19:50:05,586] INFO - scvi.dataset.dataset | Downsampled from 125775 to 10000 cells\n",
      "INFO:scvi.dataset.dataset:Downsampled from 125775 to 10000 cells\n",
      "[2019-11-09 19:50:06,706] INFO - scvi.dataset.dataset | Downsampling from 29452 to 1000 genes\n",
      "INFO:scvi.dataset.dataset:Downsampling from 29452 to 1000 genes\n",
      "[2019-11-09 19:50:06,953] INFO - scvi.dataset.dataset | Computing the library size for the new data\n",
      "INFO:scvi.dataset.dataset:Computing the library size for the new data\n",
      "[2019-11-09 19:50:07,010] INFO - scvi.dataset.dataset | Filtering non-expressing cells.\n",
      "INFO:scvi.dataset.dataset:Filtering non-expressing cells.\n",
      "[2019-11-09 19:50:07,070] INFO - scvi.dataset.dataset | Computing the library size for the new data\n",
      "INFO:scvi.dataset.dataset:Computing the library size for the new data\n",
      "[2019-11-09 19:50:07,138] INFO - scvi.dataset.dataset | Downsampled from 10000 to 10000 cells\n",
      "INFO:scvi.dataset.dataset:Downsampled from 10000 to 10000 cells\n"
     ]
    },
    {
     "name": "stdout",
     "output_type": "stream",
     "text": [
      "training: 100%|████████████████████████████████████████████████████████████████████████| 10/10 [00:21<00:00,  2.15s/it]\n"
     ]
    },
    {
     "name": "stderr",
     "output_type": "stream",
     "text": [
      "[2019-11-09 19:50:32,162] INFO - scvi.dataset.dataset | Remapping labels to [0,N]\n",
      "INFO:scvi.dataset.dataset:Remapping labels to [0,N]\n",
      "[2019-11-09 19:50:32,168] INFO - scvi.dataset.dataset | Remapping batch_indices to [0,N]\n",
      "INFO:scvi.dataset.dataset:Remapping batch_indices to [0,N]\n",
      "[2019-11-09 19:50:34,060] INFO - scvi.dataset.dataset | Computing the library size for the new data\n",
      "INFO:scvi.dataset.dataset:Computing the library size for the new data\n",
      "[2019-11-09 19:50:36,230] INFO - scvi.dataset.dataset | Downsampled from 125775 to 125775 cells\n",
      "INFO:scvi.dataset.dataset:Downsampled from 125775 to 125775 cells\n",
      "[2019-11-09 19:50:37,632] INFO - scvi.dataset.dataset | Computing the library size for the new data\n",
      "INFO:scvi.dataset.dataset:Computing the library size for the new data\n",
      "[2019-11-09 19:50:38,119] INFO - scvi.dataset.dataset | Downsampled from 125775 to 20000 cells\n",
      "INFO:scvi.dataset.dataset:Downsampled from 125775 to 20000 cells\n",
      "[2019-11-09 19:50:40,108] INFO - scvi.dataset.dataset | Downsampling from 29452 to 1000 genes\n",
      "INFO:scvi.dataset.dataset:Downsampling from 29452 to 1000 genes\n",
      "[2019-11-09 19:50:40,561] INFO - scvi.dataset.dataset | Computing the library size for the new data\n",
      "INFO:scvi.dataset.dataset:Computing the library size for the new data\n",
      "[2019-11-09 19:50:40,671] INFO - scvi.dataset.dataset | Filtering non-expressing cells.\n",
      "INFO:scvi.dataset.dataset:Filtering non-expressing cells.\n",
      "[2019-11-09 19:50:40,777] INFO - scvi.dataset.dataset | Computing the library size for the new data\n",
      "INFO:scvi.dataset.dataset:Computing the library size for the new data\n",
      "[2019-11-09 19:50:40,883] INFO - scvi.dataset.dataset | Downsampled from 20000 to 20000 cells\n",
      "INFO:scvi.dataset.dataset:Downsampled from 20000 to 20000 cells\n"
     ]
    },
    {
     "name": "stdout",
     "output_type": "stream",
     "text": [
      "training: 100%|████████████████████████████████████████████████████████████████████████| 10/10 [00:42<00:00,  4.26s/it]\n"
     ]
    },
    {
     "name": "stderr",
     "output_type": "stream",
     "text": [
      "[2019-11-09 19:51:27,493] INFO - scvi.dataset.dataset | Remapping labels to [0,N]\n",
      "INFO:scvi.dataset.dataset:Remapping labels to [0,N]\n",
      "[2019-11-09 19:51:27,499] INFO - scvi.dataset.dataset | Remapping batch_indices to [0,N]\n",
      "INFO:scvi.dataset.dataset:Remapping batch_indices to [0,N]\n",
      "[2019-11-09 19:51:29,472] INFO - scvi.dataset.dataset | Computing the library size for the new data\n",
      "INFO:scvi.dataset.dataset:Computing the library size for the new data\n",
      "[2019-11-09 19:51:31,749] INFO - scvi.dataset.dataset | Downsampled from 125775 to 125775 cells\n",
      "INFO:scvi.dataset.dataset:Downsampled from 125775 to 125775 cells\n",
      "[2019-11-09 19:51:33,450] INFO - scvi.dataset.dataset | Computing the library size for the new data\n",
      "INFO:scvi.dataset.dataset:Computing the library size for the new data\n",
      "[2019-11-09 19:51:34,367] INFO - scvi.dataset.dataset | Downsampled from 125775 to 40000 cells\n",
      "INFO:scvi.dataset.dataset:Downsampled from 125775 to 40000 cells\n",
      "[2019-11-09 19:51:38,054] INFO - scvi.dataset.dataset | Downsampling from 29452 to 1000 genes\n",
      "INFO:scvi.dataset.dataset:Downsampling from 29452 to 1000 genes\n",
      "[2019-11-09 19:51:38,877] INFO - scvi.dataset.dataset | Computing the library size for the new data\n",
      "INFO:scvi.dataset.dataset:Computing the library size for the new data\n",
      "[2019-11-09 19:51:39,092] INFO - scvi.dataset.dataset | Filtering non-expressing cells.\n",
      "INFO:scvi.dataset.dataset:Filtering non-expressing cells.\n",
      "[2019-11-09 19:51:39,301] INFO - scvi.dataset.dataset | Computing the library size for the new data\n",
      "INFO:scvi.dataset.dataset:Computing the library size for the new data\n",
      "[2019-11-09 19:51:39,513] INFO - scvi.dataset.dataset | Downsampled from 40000 to 40000 cells\n",
      "INFO:scvi.dataset.dataset:Downsampled from 40000 to 40000 cells\n"
     ]
    },
    {
     "name": "stdout",
     "output_type": "stream",
     "text": [
      "training: 100%|████████████████████████████████████████████████████████████████████████| 10/10 [01:24<00:00,  8.48s/it]\n"
     ]
    },
    {
     "name": "stderr",
     "output_type": "stream",
     "text": [
      "[2019-11-09 19:53:09,522] INFO - scvi.dataset.dataset | Remapping labels to [0,N]\n",
      "INFO:scvi.dataset.dataset:Remapping labels to [0,N]\n",
      "[2019-11-09 19:53:09,529] INFO - scvi.dataset.dataset | Remapping batch_indices to [0,N]\n",
      "INFO:scvi.dataset.dataset:Remapping batch_indices to [0,N]\n",
      "[2019-11-09 19:53:11,435] INFO - scvi.dataset.dataset | Computing the library size for the new data\n",
      "INFO:scvi.dataset.dataset:Computing the library size for the new data\n",
      "[2019-11-09 19:53:13,513] INFO - scvi.dataset.dataset | Downsampled from 125775 to 125775 cells\n",
      "INFO:scvi.dataset.dataset:Downsampled from 125775 to 125775 cells\n",
      "[2019-11-09 19:53:15,818] INFO - scvi.dataset.dataset | Computing the library size for the new data\n",
      "INFO:scvi.dataset.dataset:Computing the library size for the new data\n",
      "[2019-11-09 19:53:17,442] INFO - scvi.dataset.dataset | Downsampled from 125775 to 80000 cells\n",
      "INFO:scvi.dataset.dataset:Downsampled from 125775 to 80000 cells\n",
      "[2019-11-09 19:53:24,298] INFO - scvi.dataset.dataset | Downsampling from 29452 to 1000 genes\n",
      "INFO:scvi.dataset.dataset:Downsampling from 29452 to 1000 genes\n",
      "[2019-11-09 19:53:25,857] INFO - scvi.dataset.dataset | Computing the library size for the new data\n",
      "INFO:scvi.dataset.dataset:Computing the library size for the new data\n",
      "[2019-11-09 19:53:26,313] INFO - scvi.dataset.dataset | Filtering non-expressing cells.\n",
      "INFO:scvi.dataset.dataset:Filtering non-expressing cells.\n",
      "[2019-11-09 19:53:26,725] INFO - scvi.dataset.dataset | Computing the library size for the new data\n",
      "INFO:scvi.dataset.dataset:Computing the library size for the new data\n",
      "[2019-11-09 19:53:27,133] INFO - scvi.dataset.dataset | Downsampled from 80000 to 80000 cells\n",
      "INFO:scvi.dataset.dataset:Downsampled from 80000 to 80000 cells\n"
     ]
    },
    {
     "name": "stdout",
     "output_type": "stream",
     "text": [
      "training: 100%|████████████████████████████████████████████████████████████████████████| 10/10 [02:51<00:00, 17.12s/it]\n"
     ]
    },
    {
     "name": "stderr",
     "output_type": "stream",
     "text": [
      "[2019-11-09 19:56:26,001] INFO - scvi.dataset.dataset | Remapping labels to [0,N]\n",
      "INFO:scvi.dataset.dataset:Remapping labels to [0,N]\n",
      "[2019-11-09 19:56:26,007] INFO - scvi.dataset.dataset | Remapping batch_indices to [0,N]\n",
      "INFO:scvi.dataset.dataset:Remapping batch_indices to [0,N]\n",
      "[2019-11-09 19:56:28,138] INFO - scvi.dataset.dataset | Computing the library size for the new data\n",
      "INFO:scvi.dataset.dataset:Computing the library size for the new data\n",
      "[2019-11-09 19:56:30,855] INFO - scvi.dataset.dataset | Downsampled from 125775 to 125775 cells\n",
      "INFO:scvi.dataset.dataset:Downsampled from 125775 to 125775 cells\n",
      "[2019-11-09 19:56:33,806] INFO - scvi.dataset.dataset | Computing the library size for the new data\n",
      "INFO:scvi.dataset.dataset:Computing the library size for the new data\n",
      "[2019-11-09 19:56:36,141] INFO - scvi.dataset.dataset | Downsampled from 125775 to 125775 cells\n",
      "INFO:scvi.dataset.dataset:Downsampled from 125775 to 125775 cells\n",
      "[2019-11-09 19:56:46,819] INFO - scvi.dataset.dataset | Downsampling from 29452 to 1000 genes\n",
      "INFO:scvi.dataset.dataset:Downsampling from 29452 to 1000 genes\n",
      "[2019-11-09 19:56:49,375] INFO - scvi.dataset.dataset | Computing the library size for the new data\n",
      "INFO:scvi.dataset.dataset:Computing the library size for the new data\n",
      "[2019-11-09 19:56:50,019] INFO - scvi.dataset.dataset | Filtering non-expressing cells.\n",
      "INFO:scvi.dataset.dataset:Filtering non-expressing cells.\n",
      "[2019-11-09 19:56:50,656] INFO - scvi.dataset.dataset | Computing the library size for the new data\n",
      "INFO:scvi.dataset.dataset:Computing the library size for the new data\n",
      "[2019-11-09 19:56:51,318] INFO - scvi.dataset.dataset | Downsampled from 125775 to 125775 cells\n",
      "INFO:scvi.dataset.dataset:Downsampled from 125775 to 125775 cells\n"
     ]
    },
    {
     "name": "stdout",
     "output_type": "stream",
     "text": [
      "training: 100%|████████████████████████████████████████████████████████████████████████| 10/10 [04:24<00:00, 26.43s/it]\n"
     ]
    },
    {
     "name": "stderr",
     "output_type": "stream",
     "text": [
      "[2019-11-09 20:01:25,890] INFO - scvi.dataset.dataset | Remapping labels to [0,N]\n",
      "INFO:scvi.dataset.dataset:Remapping labels to [0,N]\n",
      "[2019-11-09 20:01:25,897] INFO - scvi.dataset.dataset | Remapping batch_indices to [0,N]\n",
      "INFO:scvi.dataset.dataset:Remapping batch_indices to [0,N]\n",
      "[2019-11-09 20:01:27,853] INFO - scvi.dataset.dataset | Computing the library size for the new data\n",
      "INFO:scvi.dataset.dataset:Computing the library size for the new data\n",
      "[2019-11-09 20:01:30,116] INFO - scvi.dataset.dataset | Downsampled from 125775 to 125775 cells\n",
      "INFO:scvi.dataset.dataset:Downsampled from 125775 to 125775 cells\n",
      "[2019-11-09 20:01:32,867] INFO - scvi.dataset.dataset | Computing the library size for the new data\n",
      "INFO:scvi.dataset.dataset:Computing the library size for the new data\n",
      "[2019-11-09 20:01:35,155] INFO - scvi.dataset.dataset | Downsampled from 125775 to 125775 cells\n",
      "INFO:scvi.dataset.dataset:Downsampled from 125775 to 125775 cells\n",
      "[2019-11-09 20:01:44,609] INFO - scvi.dataset.dataset | Downsampling from 29452 to 1000 genes\n",
      "INFO:scvi.dataset.dataset:Downsampling from 29452 to 1000 genes\n",
      "[2019-11-09 20:01:46,988] INFO - scvi.dataset.dataset | Computing the library size for the new data\n",
      "INFO:scvi.dataset.dataset:Computing the library size for the new data\n",
      "[2019-11-09 20:01:47,659] INFO - scvi.dataset.dataset | Filtering non-expressing cells.\n",
      "INFO:scvi.dataset.dataset:Filtering non-expressing cells.\n",
      "[2019-11-09 20:01:48,290] INFO - scvi.dataset.dataset | Computing the library size for the new data\n",
      "INFO:scvi.dataset.dataset:Computing the library size for the new data\n",
      "[2019-11-09 20:01:48,942] INFO - scvi.dataset.dataset | Downsampled from 125775 to 125775 cells\n",
      "INFO:scvi.dataset.dataset:Downsampled from 125775 to 125775 cells\n"
     ]
    },
    {
     "name": "stdout",
     "output_type": "stream",
     "text": [
      "training: 100%|████████████████████████████████████████████████████████████████████████| 10/10 [04:23<00:00, 26.35s/it]\n"
     ]
    },
    {
     "name": "stderr",
     "output_type": "stream",
     "text": [
      "[2019-11-09 20:06:22,794] INFO - scvi.dataset.dataset | Remapping labels to [0,N]\n",
      "INFO:scvi.dataset.dataset:Remapping labels to [0,N]\n",
      "[2019-11-09 20:06:22,808] INFO - scvi.dataset.dataset | Remapping batch_indices to [0,N]\n",
      "INFO:scvi.dataset.dataset:Remapping batch_indices to [0,N]\n",
      "[2019-11-09 20:06:24,735] INFO - scvi.dataset.dataset | Computing the library size for the new data\n",
      "INFO:scvi.dataset.dataset:Computing the library size for the new data\n",
      "[2019-11-09 20:06:27,042] INFO - scvi.dataset.dataset | Downsampled from 125775 to 125775 cells\n",
      "INFO:scvi.dataset.dataset:Downsampled from 125775 to 125775 cells\n",
      "[2019-11-09 20:06:29,830] INFO - scvi.dataset.dataset | Computing the library size for the new data\n",
      "INFO:scvi.dataset.dataset:Computing the library size for the new data\n",
      "[2019-11-09 20:06:32,141] INFO - scvi.dataset.dataset | Downsampled from 125775 to 125775 cells\n",
      "INFO:scvi.dataset.dataset:Downsampled from 125775 to 125775 cells\n",
      "[2019-11-09 20:06:41,520] INFO - scvi.dataset.dataset | Downsampling from 29452 to 1000 genes\n",
      "INFO:scvi.dataset.dataset:Downsampling from 29452 to 1000 genes\n",
      "[2019-11-09 20:06:43,873] INFO - scvi.dataset.dataset | Computing the library size for the new data\n",
      "INFO:scvi.dataset.dataset:Computing the library size for the new data\n",
      "[2019-11-09 20:06:44,522] INFO - scvi.dataset.dataset | Filtering non-expressing cells.\n",
      "INFO:scvi.dataset.dataset:Filtering non-expressing cells.\n",
      "[2019-11-09 20:06:45,145] INFO - scvi.dataset.dataset | Computing the library size for the new data\n",
      "INFO:scvi.dataset.dataset:Computing the library size for the new data\n",
      "[2019-11-09 20:06:45,786] INFO - scvi.dataset.dataset | Downsampled from 125775 to 125775 cells\n",
      "INFO:scvi.dataset.dataset:Downsampled from 125775 to 125775 cells\n"
     ]
    },
    {
     "name": "stdout",
     "output_type": "stream",
     "text": [
      "training: 100%|████████████████████████████████████████████████████████████████████████| 10/10 [04:25<00:00, 26.58s/it]\n"
     ]
    },
    {
     "name": "stderr",
     "output_type": "stream",
     "text": [
      "[2019-11-09 20:11:21,604] INFO - scvi.dataset.dataset | Remapping labels to [0,N]\n",
      "INFO:scvi.dataset.dataset:Remapping labels to [0,N]\n",
      "[2019-11-09 20:11:21,610] INFO - scvi.dataset.dataset | Remapping batch_indices to [0,N]\n",
      "INFO:scvi.dataset.dataset:Remapping batch_indices to [0,N]\n",
      "[2019-11-09 20:11:23,537] INFO - scvi.dataset.dataset | Computing the library size for the new data\n",
      "INFO:scvi.dataset.dataset:Computing the library size for the new data\n",
      "[2019-11-09 20:11:25,837] INFO - scvi.dataset.dataset | Downsampled from 125775 to 125775 cells\n",
      "INFO:scvi.dataset.dataset:Downsampled from 125775 to 125775 cells\n",
      "[2019-11-09 20:11:28,563] INFO - scvi.dataset.dataset | Computing the library size for the new data\n",
      "INFO:scvi.dataset.dataset:Computing the library size for the new data\n",
      "[2019-11-09 20:11:30,825] INFO - scvi.dataset.dataset | Downsampled from 125775 to 125775 cells\n",
      "INFO:scvi.dataset.dataset:Downsampled from 125775 to 125775 cells\n",
      "[2019-11-09 20:11:40,146] INFO - scvi.dataset.dataset | Downsampling from 29452 to 1000 genes\n",
      "INFO:scvi.dataset.dataset:Downsampling from 29452 to 1000 genes\n",
      "[2019-11-09 20:11:42,481] INFO - scvi.dataset.dataset | Computing the library size for the new data\n",
      "INFO:scvi.dataset.dataset:Computing the library size for the new data\n",
      "[2019-11-09 20:11:43,162] INFO - scvi.dataset.dataset | Filtering non-expressing cells.\n",
      "INFO:scvi.dataset.dataset:Filtering non-expressing cells.\n",
      "[2019-11-09 20:11:43,811] INFO - scvi.dataset.dataset | Computing the library size for the new data\n",
      "INFO:scvi.dataset.dataset:Computing the library size for the new data\n",
      "[2019-11-09 20:11:44,443] INFO - scvi.dataset.dataset | Downsampled from 125775 to 125775 cells\n",
      "INFO:scvi.dataset.dataset:Downsampled from 125775 to 125775 cells\n"
     ]
    },
    {
     "name": "stdout",
     "output_type": "stream",
     "text": [
      "training: 100%|████████████████████████████████████████████████████████████████████████| 10/10 [04:20<00:00, 26.03s/it]\n"
     ]
    },
    {
     "name": "stderr",
     "output_type": "stream",
     "text": [
      "[2019-11-09 20:16:15,551] INFO - scvi.dataset.dataset | Remapping labels to [0,N]\n",
      "INFO:scvi.dataset.dataset:Remapping labels to [0,N]\n",
      "[2019-11-09 20:16:15,557] INFO - scvi.dataset.dataset | Remapping batch_indices to [0,N]\n",
      "INFO:scvi.dataset.dataset:Remapping batch_indices to [0,N]\n",
      "[2019-11-09 20:16:17,492] INFO - scvi.dataset.dataset | Computing the library size for the new data\n",
      "INFO:scvi.dataset.dataset:Computing the library size for the new data\n",
      "[2019-11-09 20:16:19,766] INFO - scvi.dataset.dataset | Downsampled from 125775 to 125775 cells\n",
      "INFO:scvi.dataset.dataset:Downsampled from 125775 to 125775 cells\n",
      "[2019-11-09 20:16:22,582] INFO - scvi.dataset.dataset | Computing the library size for the new data\n",
      "INFO:scvi.dataset.dataset:Computing the library size for the new data\n",
      "[2019-11-09 20:16:24,915] INFO - scvi.dataset.dataset | Downsampled from 125775 to 125775 cells\n",
      "INFO:scvi.dataset.dataset:Downsampled from 125775 to 125775 cells\n",
      "[2019-11-09 20:16:34,212] INFO - scvi.dataset.dataset | Downsampling from 29452 to 1000 genes\n",
      "INFO:scvi.dataset.dataset:Downsampling from 29452 to 1000 genes\n",
      "[2019-11-09 20:16:36,529] INFO - scvi.dataset.dataset | Computing the library size for the new data\n",
      "INFO:scvi.dataset.dataset:Computing the library size for the new data\n",
      "[2019-11-09 20:16:37,173] INFO - scvi.dataset.dataset | Filtering non-expressing cells.\n",
      "INFO:scvi.dataset.dataset:Filtering non-expressing cells.\n",
      "[2019-11-09 20:16:37,803] INFO - scvi.dataset.dataset | Computing the library size for the new data\n",
      "INFO:scvi.dataset.dataset:Computing the library size for the new data\n",
      "[2019-11-09 20:16:38,434] INFO - scvi.dataset.dataset | Downsampled from 125775 to 125775 cells\n",
      "INFO:scvi.dataset.dataset:Downsampled from 125775 to 125775 cells\n"
     ]
    },
    {
     "name": "stdout",
     "output_type": "stream",
     "text": [
      "training: 100%|████████████████████████████████████████████████████████████████████████| 10/10 [04:24<00:00, 26.43s/it]\n"
     ]
    }
   ],
   "source": [
    "inference_times = []\n",
    "train_histories = []\n",
    "for n_cells in cell_numbers:\n",
    "    cells_dataset = create_dataset()\n",
    "    cells_dataset.subsample_cells(n_cells)\n",
    "    cells_dataset.subsample_genes(1000)\n",
    "    \n",
    "    vae = LDVAE(\n",
    "        cells_dataset.nb_genes,\n",
    "        reconstruction_loss='nb',\n",
    "        use_batch_norm=True,\n",
    "        latent_distribution='normal',\n",
    "        n_latent=20\n",
    "    )\n",
    "    \n",
    "    trainer = UnsupervisedTrainer(vae,\n",
    "                              cells_dataset,\n",
    "                              frequency=1,\n",
    "                              use_cuda=True\n",
    "                             )\n",
    "    \n",
    "    t0 = time.time()\n",
    "    trainer.train(n_epochs=10)\n",
    "    t = time.time() - t0\n",
    "    \n",
    "    inference_times.append(t)\n",
    "    train_histories.append(trainer.history['ll_train_set'])\n",
    "    "
   ]
  },
  {
   "cell_type": "code",
   "execution_count": 11,
   "metadata": {},
   "outputs": [
    {
     "data": {
      "image/png": "[encoded data removed]",
      "text/plain": [
       "<Figure size 432x288 with 1 Axes>"
      ]
     },
     "metadata": {
      "needs_background": "light"
     },
     "output_type": "display_data"
    }
   ],
   "source": [
    "plt.loglog()\n",
    "plt.scatter(cell_numbers, inference_times);"
   ]
  },
  {
   "cell_type": "code",
   "execution_count": 13,
   "metadata": {},
   "outputs": [
    {
     "data": {
      "text/plain": [
       "defaultdict(list,\n",
       "            {'elbo_train_set': [81897.05822276883,\n",
       "              4508.622188680183,\n",
       "              3674.6877555251194,\n",
       "              3789.3990809714146,\n",
       "              3866.9711167325086,\n",
       "              3048.2260792849956,\n",
       "              2983.1475761994384,\n",
       "              3062.4736095970607,\n",
       "              2751.72333361285,\n",
       "              2744.577954339346,\n",
       "              2530.8334124521716],\n",
       "             'elbo_test_set': [82012.52792685351,\n",
       "              4511.964639236732,\n",
       "              3681.7613160902406,\n",
       "              3794.8501652256014,\n",
       "              3875.832426455973,\n",
       "              3049.7012932319617,\n",
       "              2989.522396143908,\n",
       "              3061.631794126416,\n",
       "              2753.1692618266748,\n",
       "              2743.72459625323,\n",
       "              2533.8772237129797],\n",
       "             'll_train_set': []})"
      ]
     },
     "execution_count": 13,
     "metadata": {},
     "output_type": "execute_result"
    }
   ],
   "source": [
    "trainer.history"
   ]
  },
  {
   "cell_type": "code",
   "execution_count": 14,
   "metadata": {},
   "outputs": [
    {
     "data": {
      "image/png": "[encoded data removed]",
      "text/plain": [
       "<Figure size 432x288 with 1 Axes>"
      ]
     },
     "metadata": {
      "needs_background": "light"
     },
     "output_type": "display_data"
    }
   ],
   "source": [
    "for n, th in zip(cell_numbers, train_histories):\n",
    "    plt.plot(th, label=n)\n",
    "    \n",
    "plt.legend();"
   ]
  },
  {
   "cell_type": "code",
   "execution_count": 16,
   "metadata": {},
   "outputs": [
    {
     "name": "stderr",
     "output_type": "stream",
     "text": [
      "[2019-11-09 20:25:14,801] INFO - scvi.dataset.dataset | Remapping labels to [0,N]\n",
      "INFO:scvi.dataset.dataset:Remapping labels to [0,N]\n",
      "[2019-11-09 20:25:14,807] INFO - scvi.dataset.dataset | Remapping batch_indices to [0,N]\n",
      "INFO:scvi.dataset.dataset:Remapping batch_indices to [0,N]\n",
      "[2019-11-09 20:25:16,736] INFO - scvi.dataset.dataset | Computing the library size for the new data\n",
      "INFO:scvi.dataset.dataset:Computing the library size for the new data\n",
      "[2019-11-09 20:25:19,031] INFO - scvi.dataset.dataset | Downsampled from 125775 to 125775 cells\n",
      "INFO:scvi.dataset.dataset:Downsampled from 125775 to 125775 cells\n",
      "[2019-11-09 20:25:20,171] INFO - scvi.dataset.dataset | Computing the library size for the new data\n",
      "INFO:scvi.dataset.dataset:Computing the library size for the new data\n",
      "[2019-11-09 20:25:20,248] INFO - scvi.dataset.dataset | Downsampled from 125775 to 2500 cells\n",
      "INFO:scvi.dataset.dataset:Downsampled from 125775 to 2500 cells\n",
      "[2019-11-09 20:25:20,578] INFO - scvi.dataset.dataset | Downsampling from 29452 to 1000 genes\n",
      "INFO:scvi.dataset.dataset:Downsampling from 29452 to 1000 genes\n",
      "[2019-11-09 20:25:20,639] INFO - scvi.dataset.dataset | Computing the library size for the new data\n",
      "INFO:scvi.dataset.dataset:Computing the library size for the new data\n",
      "[2019-11-09 20:25:20,656] INFO - scvi.dataset.dataset | Filtering non-expressing cells.\n",
      "INFO:scvi.dataset.dataset:Filtering non-expressing cells.\n",
      "[2019-11-09 20:25:20,673] INFO - scvi.dataset.dataset | Computing the library size for the new data\n",
      "INFO:scvi.dataset.dataset:Computing the library size for the new data\n",
      "[2019-11-09 20:25:20,690] INFO - scvi.dataset.dataset | Downsampled from 2500 to 2500 cells\n",
      "INFO:scvi.dataset.dataset:Downsampled from 2500 to 2500 cells\n"
     ]
    },
    {
     "name": "stdout",
     "output_type": "stream",
     "text": [
      "training: 100%|████████████████████████████████████████████████████████████████████████| 10/10 [00:08<00:00,  1.21it/s]\n"
     ]
    },
    {
     "name": "stderr",
     "output_type": "stream",
     "text": [
      "[2019-11-09 20:25:32,141] INFO - scvi.dataset.dataset | Remapping labels to [0,N]\n",
      "INFO:scvi.dataset.dataset:Remapping labels to [0,N]\n",
      "[2019-11-09 20:25:32,155] INFO - scvi.dataset.dataset | Remapping batch_indices to [0,N]\n",
      "INFO:scvi.dataset.dataset:Remapping batch_indices to [0,N]\n",
      "[2019-11-09 20:25:34,119] INFO - scvi.dataset.dataset | Computing the library size for the new data\n",
      "INFO:scvi.dataset.dataset:Computing the library size for the new data\n",
      "[2019-11-09 20:25:36,379] INFO - scvi.dataset.dataset | Downsampled from 125775 to 125775 cells\n",
      "INFO:scvi.dataset.dataset:Downsampled from 125775 to 125775 cells\n",
      "[2019-11-09 20:25:37,596] INFO - scvi.dataset.dataset | Computing the library size for the new data\n",
      "INFO:scvi.dataset.dataset:Computing the library size for the new data\n",
      "[2019-11-09 20:25:37,760] INFO - scvi.dataset.dataset | Downsampled from 125775 to 5000 cells\n",
      "INFO:scvi.dataset.dataset:Downsampled from 125775 to 5000 cells\n",
      "[2019-11-09 20:25:38,408] INFO - scvi.dataset.dataset | Downsampling from 29452 to 1000 genes\n",
      "INFO:scvi.dataset.dataset:Downsampling from 29452 to 1000 genes\n",
      "[2019-11-09 20:25:38,525] INFO - scvi.dataset.dataset | Computing the library size for the new data\n",
      "INFO:scvi.dataset.dataset:Computing the library size for the new data\n",
      "[2019-11-09 20:25:38,556] INFO - scvi.dataset.dataset | Filtering non-expressing cells.\n",
      "INFO:scvi.dataset.dataset:Filtering non-expressing cells.\n",
      "[2019-11-09 20:25:38,586] INFO - scvi.dataset.dataset | Computing the library size for the new data\n",
      "INFO:scvi.dataset.dataset:Computing the library size for the new data\n",
      "[2019-11-09 20:25:38,618] INFO - scvi.dataset.dataset | Downsampled from 5000 to 5000 cells\n",
      "INFO:scvi.dataset.dataset:Downsampled from 5000 to 5000 cells\n"
     ]
    },
    {
     "name": "stdout",
     "output_type": "stream",
     "text": [
      "training: 100%|████████████████████████████████████████████████████████████████████████| 10/10 [00:16<00:00,  1.62s/it]\n"
     ]
    },
    {
     "name": "stderr",
     "output_type": "stream",
     "text": [
      "[2019-11-09 20:25:58,077] INFO - scvi.dataset.dataset | Remapping labels to [0,N]\n",
      "INFO:scvi.dataset.dataset:Remapping labels to [0,N]\n",
      "[2019-11-09 20:25:58,091] INFO - scvi.dataset.dataset | Remapping batch_indices to [0,N]\n",
      "INFO:scvi.dataset.dataset:Remapping batch_indices to [0,N]\n",
      "[2019-11-09 20:26:00,033] INFO - scvi.dataset.dataset | Computing the library size for the new data\n",
      "INFO:scvi.dataset.dataset:Computing the library size for the new data\n",
      "[2019-11-09 20:26:02,351] INFO - scvi.dataset.dataset | Downsampled from 125775 to 125775 cells\n",
      "INFO:scvi.dataset.dataset:Downsampled from 125775 to 125775 cells\n",
      "[2019-11-09 20:26:03,626] INFO - scvi.dataset.dataset | Computing the library size for the new data\n",
      "INFO:scvi.dataset.dataset:Computing the library size for the new data\n",
      "[2019-11-09 20:26:03,894] INFO - scvi.dataset.dataset | Downsampled from 125775 to 10000 cells\n",
      "INFO:scvi.dataset.dataset:Downsampled from 125775 to 10000 cells\n",
      "[2019-11-09 20:26:04,989] INFO - scvi.dataset.dataset | Downsampling from 29452 to 1000 genes\n",
      "INFO:scvi.dataset.dataset:Downsampling from 29452 to 1000 genes\n",
      "[2019-11-09 20:26:05,217] INFO - scvi.dataset.dataset | Computing the library size for the new data\n",
      "INFO:scvi.dataset.dataset:Computing the library size for the new data\n",
      "[2019-11-09 20:26:05,274] INFO - scvi.dataset.dataset | Filtering non-expressing cells.\n",
      "INFO:scvi.dataset.dataset:Filtering non-expressing cells.\n",
      "[2019-11-09 20:26:05,330] INFO - scvi.dataset.dataset | Computing the library size for the new data\n",
      "INFO:scvi.dataset.dataset:Computing the library size for the new data\n",
      "[2019-11-09 20:26:05,387] INFO - scvi.dataset.dataset | Downsampled from 10000 to 10000 cells\n",
      "INFO:scvi.dataset.dataset:Downsampled from 10000 to 10000 cells\n"
     ]
    },
    {
     "name": "stdout",
     "output_type": "stream",
     "text": [
      "training: 100%|████████████████████████████████████████████████████████████████████████| 10/10 [00:31<00:00,  3.13s/it]\n"
     ]
    },
    {
     "name": "stderr",
     "output_type": "stream",
     "text": [
      "[2019-11-09 20:26:40,339] INFO - scvi.dataset.dataset | Remapping labels to [0,N]\n",
      "INFO:scvi.dataset.dataset:Remapping labels to [0,N]\n",
      "[2019-11-09 20:26:40,345] INFO - scvi.dataset.dataset | Remapping batch_indices to [0,N]\n",
      "INFO:scvi.dataset.dataset:Remapping batch_indices to [0,N]\n",
      "[2019-11-09 20:26:42,269] INFO - scvi.dataset.dataset | Computing the library size for the new data\n",
      "INFO:scvi.dataset.dataset:Computing the library size for the new data\n",
      "[2019-11-09 20:26:44,528] INFO - scvi.dataset.dataset | Downsampled from 125775 to 125775 cells\n",
      "INFO:scvi.dataset.dataset:Downsampled from 125775 to 125775 cells\n",
      "[2019-11-09 20:26:45,963] INFO - scvi.dataset.dataset | Computing the library size for the new data\n",
      "INFO:scvi.dataset.dataset:Computing the library size for the new data\n",
      "[2019-11-09 20:26:46,460] INFO - scvi.dataset.dataset | Downsampled from 125775 to 20000 cells\n",
      "INFO:scvi.dataset.dataset:Downsampled from 125775 to 20000 cells\n",
      "[2019-11-09 20:26:48,487] INFO - scvi.dataset.dataset | Downsampling from 29452 to 1000 genes\n",
      "INFO:scvi.dataset.dataset:Downsampling from 29452 to 1000 genes\n",
      "[2019-11-09 20:26:48,917] INFO - scvi.dataset.dataset | Computing the library size for the new data\n",
      "INFO:scvi.dataset.dataset:Computing the library size for the new data\n",
      "[2019-11-09 20:26:49,027] INFO - scvi.dataset.dataset | Filtering non-expressing cells.\n",
      "INFO:scvi.dataset.dataset:Filtering non-expressing cells.\n",
      "[2019-11-09 20:26:49,133] INFO - scvi.dataset.dataset | Computing the library size for the new data\n",
      "INFO:scvi.dataset.dataset:Computing the library size for the new data\n",
      "[2019-11-09 20:26:49,239] INFO - scvi.dataset.dataset | Downsampled from 20000 to 20000 cells\n",
      "INFO:scvi.dataset.dataset:Downsampled from 20000 to 20000 cells\n"
     ]
    },
    {
     "name": "stdout",
     "output_type": "stream",
     "text": [
      "training: 100%|████████████████████████████████████████████████████████████████████████| 10/10 [01:02<00:00,  6.20s/it]\n"
     ]
    },
    {
     "name": "stderr",
     "output_type": "stream",
     "text": [
      "[2019-11-09 20:27:55,723] INFO - scvi.dataset.dataset | Remapping labels to [0,N]\n",
      "INFO:scvi.dataset.dataset:Remapping labels to [0,N]\n",
      "[2019-11-09 20:27:55,735] INFO - scvi.dataset.dataset | Remapping batch_indices to [0,N]\n",
      "INFO:scvi.dataset.dataset:Remapping batch_indices to [0,N]\n",
      "[2019-11-09 20:27:57,631] INFO - scvi.dataset.dataset | Computing the library size for the new data\n",
      "INFO:scvi.dataset.dataset:Computing the library size for the new data\n",
      "[2019-11-09 20:27:59,928] INFO - scvi.dataset.dataset | Downsampled from 125775 to 125775 cells\n",
      "INFO:scvi.dataset.dataset:Downsampled from 125775 to 125775 cells\n",
      "[2019-11-09 20:28:01,722] INFO - scvi.dataset.dataset | Computing the library size for the new data\n",
      "INFO:scvi.dataset.dataset:Computing the library size for the new data\n",
      "[2019-11-09 20:28:02,640] INFO - scvi.dataset.dataset | Downsampled from 125775 to 40000 cells\n",
      "INFO:scvi.dataset.dataset:Downsampled from 125775 to 40000 cells\n",
      "[2019-11-09 20:28:06,334] INFO - scvi.dataset.dataset | Downsampling from 29452 to 1000 genes\n",
      "INFO:scvi.dataset.dataset:Downsampling from 29452 to 1000 genes\n",
      "[2019-11-09 20:28:07,191] INFO - scvi.dataset.dataset | Computing the library size for the new data\n",
      "INFO:scvi.dataset.dataset:Computing the library size for the new data\n",
      "[2019-11-09 20:28:07,408] INFO - scvi.dataset.dataset | Filtering non-expressing cells.\n",
      "INFO:scvi.dataset.dataset:Filtering non-expressing cells.\n",
      "[2019-11-09 20:28:07,627] INFO - scvi.dataset.dataset | Computing the library size for the new data\n",
      "INFO:scvi.dataset.dataset:Computing the library size for the new data\n",
      "[2019-11-09 20:28:07,835] INFO - scvi.dataset.dataset | Downsampled from 40000 to 40000 cells\n",
      "INFO:scvi.dataset.dataset:Downsampled from 40000 to 40000 cells\n"
     ]
    },
    {
     "name": "stdout",
     "output_type": "stream",
     "text": [
      "training: 100%|████████████████████████████████████████████████████████████████████████| 10/10 [02:02<00:00, 12.21s/it]\n"
     ]
    },
    {
     "name": "stderr",
     "output_type": "stream",
     "text": [
      "[2019-11-09 20:30:15,848] INFO - scvi.dataset.dataset | Remapping labels to [0,N]\n",
      "INFO:scvi.dataset.dataset:Remapping labels to [0,N]\n",
      "[2019-11-09 20:30:15,854] INFO - scvi.dataset.dataset | Remapping batch_indices to [0,N]\n",
      "INFO:scvi.dataset.dataset:Remapping batch_indices to [0,N]\n",
      "[2019-11-09 20:30:17,779] INFO - scvi.dataset.dataset | Computing the library size for the new data\n",
      "INFO:scvi.dataset.dataset:Computing the library size for the new data\n",
      "[2019-11-09 20:30:20,053] INFO - scvi.dataset.dataset | Downsampled from 125775 to 125775 cells\n",
      "INFO:scvi.dataset.dataset:Downsampled from 125775 to 125775 cells\n",
      "[2019-11-09 20:30:22,353] INFO - scvi.dataset.dataset | Computing the library size for the new data\n",
      "INFO:scvi.dataset.dataset:Computing the library size for the new data\n",
      "[2019-11-09 20:30:24,024] INFO - scvi.dataset.dataset | Downsampled from 125775 to 80000 cells\n",
      "INFO:scvi.dataset.dataset:Downsampled from 125775 to 80000 cells\n",
      "[2019-11-09 20:30:30,746] INFO - scvi.dataset.dataset | Downsampling from 29452 to 1000 genes\n",
      "INFO:scvi.dataset.dataset:Downsampling from 29452 to 1000 genes\n",
      "[2019-11-09 20:30:32,351] INFO - scvi.dataset.dataset | Computing the library size for the new data\n",
      "INFO:scvi.dataset.dataset:Computing the library size for the new data\n",
      "[2019-11-09 20:30:32,773] INFO - scvi.dataset.dataset | Filtering non-expressing cells.\n",
      "INFO:scvi.dataset.dataset:Filtering non-expressing cells.\n",
      "[2019-11-09 20:30:33,212] INFO - scvi.dataset.dataset | Computing the library size for the new data\n",
      "INFO:scvi.dataset.dataset:Computing the library size for the new data\n",
      "[2019-11-09 20:30:33,636] INFO - scvi.dataset.dataset | Downsampled from 80000 to 80000 cells\n",
      "INFO:scvi.dataset.dataset:Downsampled from 80000 to 80000 cells\n"
     ]
    },
    {
     "name": "stdout",
     "output_type": "stream",
     "text": [
      "training: 100%|████████████████████████████████████████████████████████████████████████| 10/10 [04:06<00:00, 24.62s/it]\n"
     ]
    },
    {
     "name": "stderr",
     "output_type": "stream",
     "text": [
      "[2019-11-09 20:34:49,015] INFO - scvi.dataset.dataset | Remapping labels to [0,N]\n",
      "INFO:scvi.dataset.dataset:Remapping labels to [0,N]\n",
      "[2019-11-09 20:34:49,021] INFO - scvi.dataset.dataset | Remapping batch_indices to [0,N]\n",
      "INFO:scvi.dataset.dataset:Remapping batch_indices to [0,N]\n",
      "[2019-11-09 20:34:50,983] INFO - scvi.dataset.dataset | Computing the library size for the new data\n",
      "INFO:scvi.dataset.dataset:Computing the library size for the new data\n",
      "[2019-11-09 20:34:53,294] INFO - scvi.dataset.dataset | Downsampled from 125775 to 125775 cells\n",
      "INFO:scvi.dataset.dataset:Downsampled from 125775 to 125775 cells\n",
      "[2019-11-09 20:34:56,069] INFO - scvi.dataset.dataset | Computing the library size for the new data\n",
      "INFO:scvi.dataset.dataset:Computing the library size for the new data\n",
      "[2019-11-09 20:34:58,365] INFO - scvi.dataset.dataset | Downsampled from 125775 to 125775 cells\n",
      "INFO:scvi.dataset.dataset:Downsampled from 125775 to 125775 cells\n",
      "[2019-11-09 20:35:07,782] INFO - scvi.dataset.dataset | Downsampling from 29452 to 1000 genes\n",
      "INFO:scvi.dataset.dataset:Downsampling from 29452 to 1000 genes\n",
      "[2019-11-09 20:35:10,159] INFO - scvi.dataset.dataset | Computing the library size for the new data\n",
      "INFO:scvi.dataset.dataset:Computing the library size for the new data\n",
      "[2019-11-09 20:35:10,843] INFO - scvi.dataset.dataset | Filtering non-expressing cells.\n",
      "INFO:scvi.dataset.dataset:Filtering non-expressing cells.\n",
      "[2019-11-09 20:35:11,489] INFO - scvi.dataset.dataset | Computing the library size for the new data\n",
      "INFO:scvi.dataset.dataset:Computing the library size for the new data\n",
      "[2019-11-09 20:35:12,149] INFO - scvi.dataset.dataset | Downsampled from 125775 to 125775 cells\n",
      "INFO:scvi.dataset.dataset:Downsampled from 125775 to 125775 cells\n"
     ]
    },
    {
     "name": "stdout",
     "output_type": "stream",
     "text": [
      "training: 100%|████████████████████████████████████████████████████████████████████████| 10/10 [06:34<00:00, 39.41s/it]\n"
     ]
    },
    {
     "name": "stderr",
     "output_type": "stream",
     "text": [
      "[2019-11-09 20:41:59,274] INFO - scvi.dataset.dataset | Remapping labels to [0,N]\n",
      "INFO:scvi.dataset.dataset:Remapping labels to [0,N]\n",
      "[2019-11-09 20:41:59,280] INFO - scvi.dataset.dataset | Remapping batch_indices to [0,N]\n",
      "INFO:scvi.dataset.dataset:Remapping batch_indices to [0,N]\n",
      "[2019-11-09 20:42:01,220] INFO - scvi.dataset.dataset | Computing the library size for the new data\n",
      "INFO:scvi.dataset.dataset:Computing the library size for the new data\n",
      "[2019-11-09 20:42:03,480] INFO - scvi.dataset.dataset | Downsampled from 125775 to 125775 cells\n",
      "INFO:scvi.dataset.dataset:Downsampled from 125775 to 125775 cells\n",
      "[2019-11-09 20:42:06,271] INFO - scvi.dataset.dataset | Computing the library size for the new data\n",
      "INFO:scvi.dataset.dataset:Computing the library size for the new data\n",
      "[2019-11-09 20:42:08,549] INFO - scvi.dataset.dataset | Downsampled from 125775 to 125775 cells\n",
      "INFO:scvi.dataset.dataset:Downsampled from 125775 to 125775 cells\n",
      "[2019-11-09 20:42:18,081] INFO - scvi.dataset.dataset | Downsampling from 29452 to 1000 genes\n",
      "INFO:scvi.dataset.dataset:Downsampling from 29452 to 1000 genes\n",
      "[2019-11-09 20:42:20,413] INFO - scvi.dataset.dataset | Computing the library size for the new data\n",
      "INFO:scvi.dataset.dataset:Computing the library size for the new data\n",
      "[2019-11-09 20:42:21,065] INFO - scvi.dataset.dataset | Filtering non-expressing cells.\n",
      "INFO:scvi.dataset.dataset:Filtering non-expressing cells.\n",
      "[2019-11-09 20:42:21,695] INFO - scvi.dataset.dataset | Computing the library size for the new data\n",
      "INFO:scvi.dataset.dataset:Computing the library size for the new data\n",
      "[2019-11-09 20:42:22,324] INFO - scvi.dataset.dataset | Downsampled from 125775 to 125775 cells\n",
      "INFO:scvi.dataset.dataset:Downsampled from 125775 to 125775 cells\n"
     ]
    },
    {
     "name": "stdout",
     "output_type": "stream",
     "text": [
      "training: 100%|████████████████████████████████████████████████████████████████████████| 10/10 [06:29<00:00, 38.97s/it]\n"
     ]
    },
    {
     "name": "stderr",
     "output_type": "stream",
     "text": [
      "[2019-11-09 20:49:04,942] INFO - scvi.dataset.dataset | Remapping labels to [0,N]\n",
      "INFO:scvi.dataset.dataset:Remapping labels to [0,N]\n",
      "[2019-11-09 20:49:04,948] INFO - scvi.dataset.dataset | Remapping batch_indices to [0,N]\n",
      "INFO:scvi.dataset.dataset:Remapping batch_indices to [0,N]\n",
      "[2019-11-09 20:49:06,870] INFO - scvi.dataset.dataset | Computing the library size for the new data\n",
      "INFO:scvi.dataset.dataset:Computing the library size for the new data\n",
      "[2019-11-09 20:49:09,131] INFO - scvi.dataset.dataset | Downsampled from 125775 to 125775 cells\n",
      "INFO:scvi.dataset.dataset:Downsampled from 125775 to 125775 cells\n",
      "[2019-11-09 20:49:11,902] INFO - scvi.dataset.dataset | Computing the library size for the new data\n",
      "INFO:scvi.dataset.dataset:Computing the library size for the new data\n",
      "[2019-11-09 20:49:14,172] INFO - scvi.dataset.dataset | Downsampled from 125775 to 125775 cells\n",
      "INFO:scvi.dataset.dataset:Downsampled from 125775 to 125775 cells\n",
      "[2019-11-09 20:49:23,466] INFO - scvi.dataset.dataset | Downsampling from 29452 to 1000 genes\n",
      "INFO:scvi.dataset.dataset:Downsampling from 29452 to 1000 genes\n",
      "[2019-11-09 20:49:25,869] INFO - scvi.dataset.dataset | Computing the library size for the new data\n",
      "INFO:scvi.dataset.dataset:Computing the library size for the new data\n",
      "[2019-11-09 20:49:26,519] INFO - scvi.dataset.dataset | Filtering non-expressing cells.\n",
      "INFO:scvi.dataset.dataset:Filtering non-expressing cells.\n",
      "[2019-11-09 20:49:27,148] INFO - scvi.dataset.dataset | Computing the library size for the new data\n",
      "INFO:scvi.dataset.dataset:Computing the library size for the new data\n",
      "[2019-11-09 20:49:27,775] INFO - scvi.dataset.dataset | Downsampled from 125775 to 125775 cells\n",
      "INFO:scvi.dataset.dataset:Downsampled from 125775 to 125775 cells\n"
     ]
    },
    {
     "name": "stdout",
     "output_type": "stream",
     "text": [
      "training: 100%|████████████████████████████████████████████████████████████████████████| 10/10 [06:30<00:00, 39.02s/it]\n"
     ]
    },
    {
     "name": "stderr",
     "output_type": "stream",
     "text": [
      "[2019-11-09 20:56:10,633] INFO - scvi.dataset.dataset | Remapping labels to [0,N]\n",
      "INFO:scvi.dataset.dataset:Remapping labels to [0,N]\n",
      "[2019-11-09 20:56:10,640] INFO - scvi.dataset.dataset | Remapping batch_indices to [0,N]\n",
      "INFO:scvi.dataset.dataset:Remapping batch_indices to [0,N]\n",
      "[2019-11-09 20:56:12,591] INFO - scvi.dataset.dataset | Computing the library size for the new data\n",
      "INFO:scvi.dataset.dataset:Computing the library size for the new data\n",
      "[2019-11-09 20:56:14,884] INFO - scvi.dataset.dataset | Downsampled from 125775 to 125775 cells\n",
      "INFO:scvi.dataset.dataset:Downsampled from 125775 to 125775 cells\n",
      "[2019-11-09 20:56:17,652] INFO - scvi.dataset.dataset | Computing the library size for the new data\n",
      "INFO:scvi.dataset.dataset:Computing the library size for the new data\n",
      "[2019-11-09 20:56:19,967] INFO - scvi.dataset.dataset | Downsampled from 125775 to 125775 cells\n",
      "INFO:scvi.dataset.dataset:Downsampled from 125775 to 125775 cells\n",
      "[2019-11-09 20:56:29,215] INFO - scvi.dataset.dataset | Downsampling from 29452 to 1000 genes\n",
      "INFO:scvi.dataset.dataset:Downsampling from 29452 to 1000 genes\n",
      "[2019-11-09 20:56:31,558] INFO - scvi.dataset.dataset | Computing the library size for the new data\n",
      "INFO:scvi.dataset.dataset:Computing the library size for the new data\n",
      "[2019-11-09 20:56:32,209] INFO - scvi.dataset.dataset | Filtering non-expressing cells.\n",
      "INFO:scvi.dataset.dataset:Filtering non-expressing cells.\n",
      "[2019-11-09 20:56:32,853] INFO - scvi.dataset.dataset | Computing the library size for the new data\n",
      "INFO:scvi.dataset.dataset:Computing the library size for the new data\n",
      "[2019-11-09 20:56:33,493] INFO - scvi.dataset.dataset | Downsampled from 125775 to 125775 cells\n",
      "INFO:scvi.dataset.dataset:Downsampled from 125775 to 125775 cells\n"
     ]
    },
    {
     "name": "stdout",
     "output_type": "stream",
     "text": [
      "training: 100%|████████████████████████████████████████████████████████████████████████| 10/10 [06:33<00:00, 39.40s/it]\n"
     ]
    },
    {
     "name": "stderr",
     "output_type": "stream",
     "text": [
      "[2019-11-09 21:03:20,718] INFO - scvi.dataset.dataset | Remapping labels to [0,N]\n",
      "INFO:scvi.dataset.dataset:Remapping labels to [0,N]\n",
      "[2019-11-09 21:03:20,729] INFO - scvi.dataset.dataset | Remapping batch_indices to [0,N]\n",
      "INFO:scvi.dataset.dataset:Remapping batch_indices to [0,N]\n",
      "[2019-11-09 21:03:22,650] INFO - scvi.dataset.dataset | Computing the library size for the new data\n",
      "INFO:scvi.dataset.dataset:Computing the library size for the new data\n",
      "[2019-11-09 21:03:24,915] INFO - scvi.dataset.dataset | Downsampled from 125775 to 125775 cells\n",
      "INFO:scvi.dataset.dataset:Downsampled from 125775 to 125775 cells\n",
      "[2019-11-09 21:03:27,699] INFO - scvi.dataset.dataset | Computing the library size for the new data\n",
      "INFO:scvi.dataset.dataset:Computing the library size for the new data\n",
      "[2019-11-09 21:03:30,005] INFO - scvi.dataset.dataset | Downsampled from 125775 to 125775 cells\n",
      "INFO:scvi.dataset.dataset:Downsampled from 125775 to 125775 cells\n",
      "[2019-11-09 21:03:39,316] INFO - scvi.dataset.dataset | Downsampling from 29452 to 1000 genes\n",
      "INFO:scvi.dataset.dataset:Downsampling from 29452 to 1000 genes\n",
      "[2019-11-09 21:03:41,713] INFO - scvi.dataset.dataset | Computing the library size for the new data\n",
      "INFO:scvi.dataset.dataset:Computing the library size for the new data\n",
      "[2019-11-09 21:03:42,370] INFO - scvi.dataset.dataset | Filtering non-expressing cells.\n",
      "INFO:scvi.dataset.dataset:Filtering non-expressing cells.\n",
      "[2019-11-09 21:03:43,001] INFO - scvi.dataset.dataset | Computing the library size for the new data\n",
      "INFO:scvi.dataset.dataset:Computing the library size for the new data\n",
      "[2019-11-09 21:03:43,634] INFO - scvi.dataset.dataset | Downsampled from 125775 to 125775 cells\n",
      "INFO:scvi.dataset.dataset:Downsampled from 125775 to 125775 cells\n"
     ]
    },
    {
     "name": "stdout",
     "output_type": "stream",
     "text": [
      "training: 100%|████████████████████████████████████████████████████████████████████████| 10/10 [06:30<00:00, 39.06s/it]\n"
     ]
    }
   ],
   "source": [
    "inference_times_cpu = []\n",
    "train_histories_cpu = []\n",
    "for n_cells in cell_numbers:\n",
    "    cells_dataset = create_dataset()\n",
    "    cells_dataset.subsample_cells(n_cells)\n",
    "    cells_dataset.subsample_genes(1000)\n",
    "    \n",
    "    vae = LDVAE(\n",
    "        cells_dataset.nb_genes,\n",
    "        reconstruction_loss='nb',\n",
    "        use_batch_norm=True,\n",
    "        latent_distribution='normal',\n",
    "        n_latent=20\n",
    "    )\n",
    "    \n",
    "    trainer = UnsupervisedTrainer(vae,\n",
    "                              cells_dataset,\n",
    "                              frequency=1,\n",
    "                              use_cuda=False\n",
    "                             )\n",
    "    \n",
    "    t0 = time.time()\n",
    "    trainer.train(n_epochs=10)\n",
    "    t = time.time() - t0\n",
    "    \n",
    "    train_histories_cpu.append(trainer.history['elbo_train_set'])\n",
    "    inference_times_cpu.append(t)\n",
    "    "
   ]
  },
  {
   "cell_type": "code",
   "execution_count": null,
   "metadata": {},
   "outputs": [],
   "source": []
  },
  {
   "cell_type": "code",
   "execution_count": 31,
   "metadata": {},
   "outputs": [
    {
     "data": {
      "image/png": "[encoded data removed]",
      "text/plain": [
       "<Figure size 432x288 with 1 Axes>"
      ]
     },
     "metadata": {
      "needs_background": "light"
     },
     "output_type": "display_data"
    }
   ],
   "source": [
    "plt.loglog()\n",
    "plt.scatter(cell_numbers, inference_times);\n",
    "plt.scatter(cell_numbers, inference_times_cpu);\n",
    "plt.ylim(bottom=5e0, top=6e2)\n",
    "plt.xlim(left=1e3, right=2e6);"
   ]
  },
  {
   "cell_type": "code",
   "execution_count": 12,
   "metadata": {},
   "outputs": [
    {
     "data": {
      "image/png": "[encoded data removed]",
      "text/plain": [
       "<Figure size 432x288 with 1 Axes>"
      ]
     },
     "metadata": {
      "needs_background": "light"
     },
     "output_type": "display_data"
    }
   ],
   "source": [
    "plt.loglog()\n",
    "plt.scatter(cell_numbers, inference_times);\n",
    "plt.scatter(cell_numbers, inference_times_cpu);"
   ]
  },
  {
   "cell_type": "code",
   "execution_count": null,
   "metadata": {},
   "outputs": [],
   "source": []
  },
  {
   "cell_type": "code",
   "execution_count": null,
   "metadata": {},
   "outputs": [],
   "source": []
  },
  {
   "cell_type": "code",
   "execution_count": null,
   "metadata": {},
   "outputs": [],
   "source": []
  },
  {
   "cell_type": "code",
   "execution_count": 18,
   "metadata": {},
   "outputs": [],
   "source": [
    "infer_time_df = \\\n",
    "pd.DataFrame({'cell_numbers': cell_numbers,\n",
    "              'gpu_inference_time': inference_times,\n",
    "              'cpu_inference_time': inference_times_cpu})"
   ]
  },
  {
   "cell_type": "code",
   "execution_count": 19,
   "metadata": {},
   "outputs": [],
   "source": [
    "infer_time_df.to_csv('pij_linear_inference_times.csv')"
   ]
  },
  {
   "cell_type": "code",
   "execution_count": 21,
   "metadata": {},
   "outputs": [
    {
     "data": {
      "image/png": "[encoded data removed]",
      "text/plain": [
       "<Figure size 432x288 with 1 Axes>"
      ]
     },
     "metadata": {
      "needs_background": "light"
     },
     "output_type": "display_data"
    }
   ],
   "source": [
    "for n, th in zip(cell_numbers, train_histories_cpu):\n",
    "    plt.plot(th, label=n)\n",
    "    \n",
    "plt.legend();"
   ]
  },
  {
   "cell_type": "code",
   "execution_count": 22,
   "metadata": {},
   "outputs": [],
   "source": [
    "train_h_df = pd.DataFrame(np.array(train_histories), index=cell_numbers)"
   ]
  },
  {
   "cell_type": "code",
   "execution_count": 23,
   "metadata": {},
   "outputs": [],
   "source": [
    "train_h_df.to_csv('pij_linear_train_history.csv')"
   ]
  },
  {
   "cell_type": "code",
   "execution_count": null,
   "metadata": {},
   "outputs": [],
   "source": []
  },
  {
   "cell_type": "code",
   "execution_count": null,
   "metadata": {},
   "outputs": [],
   "source": []
  },
  {
   "cell_type": "code",
   "execution_count": null,
   "metadata": {},
   "outputs": [],
   "source": []
  },
  {
   "cell_type": "code",
   "execution_count": null,
   "metadata": {},
   "outputs": [],
   "source": []
  },
  {
   "cell_type": "code",
   "execution_count": null,
   "metadata": {},
   "outputs": [],
   "source": []
  },
  {
   "cell_type": "code",
   "execution_count": null,
   "metadata": {},
   "outputs": [],
   "source": []
  },
  {
   "cell_type": "code",
   "execution_count": null,
   "metadata": {},
   "outputs": [],
   "source": []
  }
 ],
 "metadata": {
  "kernelspec": {
   "display_name": "Python 3",
   "language": "python",
   "name": "python3"
  },
  "language_info": {
   "codemirror_mode": {
    "name": "ipython",
    "version": 3
   },
   "file_extension": ".py",
   "mimetype": "text/x-python",
   "name": "python",
   "nbconvert_exporter": "python",
   "pygments_lexer": "ipython3",
   "version": "3.7.4"
  }
 },
 "nbformat": 4,
 "nbformat_minor": 2
}
